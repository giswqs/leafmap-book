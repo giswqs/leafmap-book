{
 "cells": [
  {
   "cell_type": "markdown",
   "metadata": {},
   "source": [
    "# Working with Geospatial Data\n",
    "\n",
    "```{contents}\n",
    ":local:\n",
    ":depth: 2\n",
    "```\n",
    "\n",
    "## Introduction\n",
    "\n",
    "## Technical requirements\n",
    "\n",
    "To follow along with this chapter, you will need to have leafmap and several optional dependencies installed. If you have already followed {numref}`ch1:install` - _Installing leafmap_, then you should already have a conda environment with all the necessary packages installed. Otherwise, you can create a new conda environment and install [pygis](https://pygis.gishub.org) with the following commands, which will automatically install leafmap and all the required dependencies:\n",
    "\n",
    "```bash\n",
    "conda create -n geo python\n",
    "conda activate geo\n",
    "conda install -c conda-forge mamba\n",
    "mamba install -c conda-forge pygis\n",
    "```\n",
    "\n",
    "Next, launch JupyterLab by typing the following commands in your terminal or Anaconda prompt:\n",
    "\n",
    "```bash\n",
    "jupyter lab\n",
    "```\n",
    "\n",
    "Alternatively, you can use leafmap in a cloud environment without installing anything on your local computer. Click on one of the following links to launch a cloud-based JupyterLab server:\n",
    "\n",
    "- [Open 4_work_with_data.ipynb in Google Colab](https://colab.research.google.com/github/giswqs/leafmap-book/blob/master/chapters/4_work_with_data.ipynb)\n",
    "- [Open 4_work_with_data.ipynb in Amazon SageMaker Studio Lab](https://studiolab.sagemaker.aws/import/github/giswqs/leafmap-book/blob/master/chapters/4_work_with_data.ipynb)\n",
    "- [Open 4_work_with_data.ipynb in Microsoft Planetary Computer](https://pccompute.westeurope.cloudapp.azure.com/compute/hub/user-redirect/git-pull?repo=https://github.com/giswqs/leafmap-book&urlpath=lab/tree/leafmap-book/chapters/4_work_with_data.ipynb&branch=master)\n",
    "\n",
    "Once in the selected cloud environment, you can uncomment the following line and run the cell to install pygis, which includes leafmap and all the necessary dependencies:"
   ]
  },
  {
   "cell_type": "code",
   "execution_count": null,
   "metadata": {},
   "outputs": [],
   "source": [
    "# %pip install pygis"
   ]
  },
  {
   "cell_type": "markdown",
   "metadata": {},
   "source": [
    "The installation process may take 2-3 minutes. Once pygis has been installed successfully, restart the kernel to enable the newly installed packages.\n",
    "\n",
    "To begin, import the necessary libraries that will be used in this chapter:"
   ]
  },
  {
   "cell_type": "code",
   "execution_count": null,
   "metadata": {},
   "outputs": [],
   "source": [
    "import leafmap"
   ]
  },
  {
   "cell_type": "markdown",
   "metadata": {},
   "source": [
    "## CSV to points\n",
    "\n",
    "## Split raster\n",
    "\n",
    "## Merge raster\n",
    "\n",
    "## Raster inspector\n",
    "\n",
    "## Image comparison\n",
    "\n",
    "## Image overlay\n",
    "\n",
    "## Heat maps\n",
    "\n",
    "## Choropleth maps\n",
    "\n",
    "## Summary\n",
    "\n",
    "## References\n",
    "\n",
    "- https://leafmap.org/notebooks/09_csv_to_points\n",
    "- https://leafmap.org/notebooks/13_geopandas/\n",
    "- https://leafmap.org/notebooks/14_postgis\n",
    "- https://leafmap.org/notebooks/32_local_tile\n",
    "- https://leafmap.org/notebooks/34_add_points_from_xy\n",
    "- https://leafmap.org/notebooks/39_inspector_tool\n",
    "- https://leafmap.org/notebooks/41_raster_gui\n",
    "- https://leafmap.org/notebooks/43_search_control\n",
    "- https://leafmap.org/notebooks/49_split_control\n",
    "- https://leafmap.org/notebooks/50_marker_cluster\n",
    "- https://leafmap.org/notebooks/53_choropleth\n",
    "- https://leafmap.org/notebooks/24_heatmap\n",
    "- https://leafmap.org/notebooks/54_plot_raster\n",
    "- https://leafmap.org/notebooks/76_image_comparison\n",
    "- https://leafmap.org/notebooks/33_image_overlay\n",
    "- https://leafmap.org/notebooks/60_add_widget"
   ]
  }
 ],
 "metadata": {
  "kernelspec": {
   "display_name": "Python 3",
   "language": "python",
   "name": "python3"
  }
 },
 "nbformat": 4,
 "nbformat_minor": 5
}
