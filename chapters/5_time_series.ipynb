{
 "cells": [
  {
   "cell_type": "markdown",
   "metadata": {},
   "source": [
    "# Time Series Visualization\n",
    "\n",
    "```{contents}\n",
    ":local:\n",
    ":depth: 2\n",
    "```\n",
    "\n",
    "## Introduction\n",
    "\n",
    "## Technical requirements"
   ]
  },
  {
   "cell_type": "code",
   "execution_count": null,
   "metadata": {},
   "outputs": [],
   "source": []
  },
  {
   "cell_type": "markdown",
   "metadata": {},
   "source": [
    "## Planet imagery\n",
    "\n",
    "## Time series inspector\n",
    "\n",
    "## Time slider\n",
    "\n",
    "## Timelapse animations\n",
    "\n",
    "## Summary\n",
    "\n",
    "## References\n",
    "\n",
    "- https://leafmap.org/notebooks/20_planet_imagery\n",
    "- https://leafmap.org/notebooks/21_ts_inspector/\n",
    "- https://leafmap.org/notebooks/22_time_slider\n",
    "- https://leafmap.org/notebooks/20_planet_imagery\n",
    "- https://leafmap.org/notebooks/61_vector_to_gif\n",
    "- https://leafmap.org/notebooks/72_timelapse"
   ]
  }
 ],
 "metadata": {
  "kernelspec": {
   "display_name": "Python 3",
   "language": "python",
   "name": "python3"
  }
 },
 "nbformat": 4,
 "nbformat_minor": 5
}
