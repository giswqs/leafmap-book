{
 "cells": [
  {
   "cell_type": "markdown",
   "id": "39088f93",
   "metadata": {},
   "source": [
    "# Basic Map Visualization\n",
    "\n",
    "```{contents}\n",
    ":local:\n",
    ":depth: 2\n",
    "```\n",
    "\n",
    "## Introduction\n",
    "\n",
    "Map visualization is a powerful tool for analyzing and communicating spatial data. In this chapter, we will explore various techniques for visualizing vector data on a map. We will cover different file formats and demonstrate how to use them to create interactive and informative maps. By the end of this chapter, you will have a solid understanding of basic map visualization techniques and be able to apply them to your own projects.\n",
    "\n",
    "## Technical requirements"
   ]
  },
  {
   "cell_type": "code",
   "execution_count": null,
   "id": "f8f99466",
   "metadata": {},
   "outputs": [],
   "source": [
    "import leafmap"
   ]
  },
  {
   "cell_type": "markdown",
   "id": "8e86a6d7",
   "metadata": {},
   "source": [
    "## Visualizing vector data\n",
    "\n",
    "### GeoJSON\n",
    "\n",
    "#### Point data"
   ]
  },
  {
   "cell_type": "code",
   "execution_count": null,
   "id": "aaa9e896",
   "metadata": {},
   "outputs": [],
   "source": [
    "cities = 'https://open.gishub.org/data/us/cities.geojson'"
   ]
  },
  {
   "cell_type": "code",
   "execution_count": null,
   "id": "74657dfd",
   "metadata": {},
   "outputs": [],
   "source": [
    "m = leafmap.Map(center=[40, -100], zoom=4)"
   ]
  },
  {
   "cell_type": "code",
   "execution_count": null,
   "id": "1db5f55c",
   "metadata": {},
   "outputs": [],
   "source": [
    "m.add_geojson(cities, layer_name='Cities')\n",
    "m"
   ]
  },
  {
   "cell_type": "code",
   "execution_count": null,
   "id": "a5a5af64",
   "metadata": {},
   "outputs": [],
   "source": [
    "m = leafmap.Map(center=[40, -100], zoom=4)\n",
    "m.add_marker_cluster(cities, layer_name='Cities')\n",
    "m"
   ]
  },
  {
   "cell_type": "markdown",
   "id": "00fb268b",
   "metadata": {},
   "source": [
    "#### Line data"
   ]
  },
  {
   "cell_type": "code",
   "execution_count": null,
   "id": "d794fa32",
   "metadata": {},
   "outputs": [],
   "source": [
    "cables = 'https://open.gishub.org/data/vector/cables.geojson'"
   ]
  },
  {
   "cell_type": "code",
   "execution_count": null,
   "id": "a6982b8c",
   "metadata": {},
   "outputs": [],
   "source": [
    "m = leafmap.Map(center=[0, 0], zoom=2)\n",
    "m.add_geojson(cables, layer_name=\"Submarine Cables\", zoom_to_layer=False)\n",
    "m"
   ]
  },
  {
   "cell_type": "code",
   "execution_count": null,
   "id": "4018f0e0",
   "metadata": {},
   "outputs": [],
   "source": [
    "m = leafmap.Map(center=[0, 0], zoom=2)\n",
    "m.add_basemap(\"CartoDB.DarkMatter\")\n",
    "callback = lambda feat: {\"color\": feat[\"properties\"][\"color\"], \"weight\": 1}\n",
    "m.add_geojson(cables, layer_name=\"Cable lines\", style_callback=callback)\n",
    "m"
   ]
  },
  {
   "cell_type": "markdown",
   "id": "20d5e999",
   "metadata": {},
   "source": [
    "#### Polygon data"
   ]
  },
  {
   "cell_type": "code",
   "execution_count": null,
   "id": "dd0579ba",
   "metadata": {},
   "outputs": [],
   "source": [
    "countries = \"https://open.gishub.org/data/world/countries.geojson\""
   ]
  },
  {
   "cell_type": "code",
   "execution_count": null,
   "id": "34edf1ac",
   "metadata": {},
   "outputs": [],
   "source": [
    "m = leafmap.Map(center=[0, 0], zoom=2)\n",
    "m.add_geojson(countries, layer_name=\"Countries\")\n",
    "m"
   ]
  },
  {
   "cell_type": "code",
   "execution_count": null,
   "id": "1ba34f53",
   "metadata": {},
   "outputs": [],
   "source": [
    "m = leafmap.Map(center=[0, 0], zoom=2)\n",
    "style = {\n",
    "    \"stroke\": True,\n",
    "    \"color\": \"#0000ff\",\n",
    "    \"weight\": 2,\n",
    "    \"opacity\": 1,\n",
    "    \"fill\": True,\n",
    "    \"fillColor\": \"#0000ff\",\n",
    "    \"fillOpacity\": 0.1,\n",
    "}\n",
    "hover_style = {\"fillOpacity\": 0.7}\n",
    "m.add_geojson(countries, layer_name=\"Countries\", style=style, hover_style=hover_style)\n",
    "m"
   ]
  },
  {
   "cell_type": "markdown",
   "id": "ca8188c4",
   "metadata": {},
   "source": [
    "### Shapefile"
   ]
  },
  {
   "cell_type": "code",
   "execution_count": null,
   "id": "9be439d5",
   "metadata": {},
   "outputs": [],
   "source": [
    "states = \"https://open.gishub.org/data/us/us_states.zip\""
   ]
  },
  {
   "cell_type": "code",
   "execution_count": null,
   "id": "27dd35ad",
   "metadata": {},
   "outputs": [],
   "source": [
    "m = leafmap.Map(center=[40, -100], zoom=4)\n",
    "m.add_shp(states, layer_name=\"US States\")\n",
    "m"
   ]
  },
  {
   "cell_type": "markdown",
   "id": "aa50a7d1",
   "metadata": {},
   "source": [
    "### GeoDataFrame"
   ]
  },
  {
   "cell_type": "code",
   "execution_count": null,
   "id": "d2b0eac3",
   "metadata": {},
   "outputs": [],
   "source": [
    "import geopandas as gpd"
   ]
  },
  {
   "cell_type": "code",
   "execution_count": null,
   "id": "8e438250",
   "metadata": {},
   "outputs": [],
   "source": [
    "gdf = gpd.read_file(states)\n",
    "gdf.head()"
   ]
  },
  {
   "cell_type": "code",
   "execution_count": null,
   "id": "cf13e5d8",
   "metadata": {},
   "outputs": [],
   "source": [
    "m = leafmap.Map(center=[40, -100], zoom=4)\n",
    "m.add_gdf(gdf, layer_name=\"US States\")\n",
    "m"
   ]
  },
  {
   "cell_type": "markdown",
   "id": "517fa27d",
   "metadata": {},
   "source": [
    "### GeoPackage"
   ]
  },
  {
   "cell_type": "code",
   "execution_count": null,
   "id": "138ef494",
   "metadata": {},
   "outputs": [],
   "source": [
    "regions = \"https://open.gishub.org/data/us/us_regions.gpkg\""
   ]
  },
  {
   "cell_type": "code",
   "execution_count": null,
   "id": "05ac48c1",
   "metadata": {},
   "outputs": [],
   "source": [
    "m = leafmap.Map(center=[40, -100], zoom=4)\n",
    "m.add_vector(regions, layer_name=\"US Regions\")\n",
    "m"
   ]
  },
  {
   "cell_type": "markdown",
   "id": "0a5e2066",
   "metadata": {},
   "source": [
    "### Vector tile layer"
   ]
  },
  {
   "cell_type": "code",
   "execution_count": null,
   "id": "b680008c",
   "metadata": {},
   "outputs": [],
   "source": [
    "m = leafmap.Map()\n",
    "url = \"https://planetarycomputer.microsoft.com/api/data/v1/vector/collections/ms-buildings/tilesets/global-footprints/tiles/{z}/{x}/{y}\"\n",
    "attribution = \"Microsoft\"\n",
    "vector_tile_layer_styles = {}\n",
    "m.add_vector_tile_layer(url, attribution, vector_tile_layer_styles)\n",
    "m"
   ]
  },
  {
   "cell_type": "markdown",
   "id": "2a1b39ec",
   "metadata": {},
   "source": [
    "## Visualizing raster data"
   ]
  },
  {
   "cell_type": "code",
   "execution_count": null,
   "id": "82399800",
   "metadata": {},
   "outputs": [],
   "source": []
  },
  {
   "cell_type": "markdown",
   "id": "084f0ecf",
   "metadata": {},
   "source": [
    "### GeoTIFF"
   ]
  },
  {
   "cell_type": "code",
   "execution_count": null,
   "id": "153417a8",
   "metadata": {},
   "outputs": [],
   "source": [
    "dem = 'dem.tif'\n",
    "landsat = 'landsat.tif'"
   ]
  },
  {
   "cell_type": "code",
   "execution_count": null,
   "id": "8a44bfc5",
   "metadata": {},
   "outputs": [],
   "source": [
    "dem_url = 'https://open.gishub.org/data/raster/dem.tif'\n",
    "landsat_url = 'https://open.gishub.org/data/raster/landsat7.tif'"
   ]
  },
  {
   "cell_type": "markdown",
   "id": "55c513a3",
   "metadata": {},
   "source": [
    "### COG"
   ]
  },
  {
   "cell_type": "code",
   "execution_count": null,
   "id": "99b59a3c",
   "metadata": {},
   "outputs": [],
   "source": []
  },
  {
   "cell_type": "markdown",
   "id": "99fcbcc0",
   "metadata": {},
   "source": [
    "### STAC"
   ]
  },
  {
   "cell_type": "code",
   "execution_count": null,
   "id": "e6c2c3c9",
   "metadata": {},
   "outputs": [],
   "source": []
  },
  {
   "cell_type": "markdown",
   "id": "b5d10252",
   "metadata": {},
   "source": [
    "## Legends"
   ]
  },
  {
   "cell_type": "code",
   "execution_count": null,
   "id": "651f4e1c",
   "metadata": {},
   "outputs": [],
   "source": []
  },
  {
   "cell_type": "markdown",
   "id": "5292bef3",
   "metadata": {},
   "source": [
    "## Colorbars"
   ]
  },
  {
   "cell_type": "code",
   "execution_count": null,
   "id": "31442345",
   "metadata": {},
   "outputs": [],
   "source": []
  },
  {
   "cell_type": "markdown",
   "id": "ca796f38",
   "metadata": {},
   "source": [
    "## Labels"
   ]
  },
  {
   "cell_type": "code",
   "execution_count": null,
   "id": "3c41e21a",
   "metadata": {},
   "outputs": [],
   "source": []
  },
  {
   "cell_type": "markdown",
   "id": "f31dc695",
   "metadata": {},
   "source": [
    "## Split maps"
   ]
  },
  {
   "cell_type": "code",
   "execution_count": null,
   "id": "5a751f6b",
   "metadata": {},
   "outputs": [],
   "source": []
  },
  {
   "cell_type": "markdown",
   "id": "36998b60",
   "metadata": {},
   "source": [
    "## Linked maps"
   ]
  },
  {
   "cell_type": "code",
   "execution_count": null,
   "id": "da3f9909",
   "metadata": {},
   "outputs": [],
   "source": []
  },
  {
   "cell_type": "markdown",
   "id": "a9c5638c",
   "metadata": {},
   "source": [
    "## Summary"
   ]
  },
  {
   "cell_type": "code",
   "execution_count": null,
   "id": "7e427ba2",
   "metadata": {},
   "outputs": [],
   "source": []
  },
  {
   "cell_type": "markdown",
   "id": "75601289",
   "metadata": {},
   "source": [
    "## References\n",
    "\n",
    "- https://leafmap.org/notebooks/03_cog_stac\n",
    "- https://leafmap.org/notebooks/05_load_raster\n",
    "- https://leafmap.org/notebooks/10_add_vector\n",
    "- https://leafmap.org/notebooks/06_legend\n",
    "- https://leafmap.org/notebooks/07_colorbar\n",
    "- https://leafmap.org/notebooks/11_linked_maps\n",
    "- https://leafmap.org/notebooks/12_split_map\n",
    "- https://leafmap.org/notebooks/23_colormaps\n",
    "- https://leafmap.org/notebooks/36_add_labels\n",
    "- https://leafmap.org/notebooks/59_create_legend\n",
    "- https://leafmap.org/notebooks/19_map_to_html\n",
    "- https://leafmap.org/notebooks/17_vector_tile_layer"
   ]
  }
 ],
 "metadata": {
  "jupytext": {
   "text_representation": {
    "extension": ".md",
    "format_name": "myst",
    "format_version": 0.13,
    "jupytext_version": "1.14.5"
   }
  },
  "kernelspec": {
   "display_name": "Python 3",
   "language": "python",
   "name": "python3"
  },
  "source_map": [
   12,
   27,
   29,
   37,
   41,
   45,
   50,
   54,
   58,
   62,
   68,
   74,
   78,
   82,
   88,
   102,
   106,
   110,
   114,
   118,
   122,
   127,
   131,
   135,
   139,
   143,
   147,
   154,
   158,
   160,
   164,
   169,
   172,
   176,
   178,
   182,
   184,
   188,
   190,
   194,
   196,
   200,
   202,
   206,
   208,
   212,
   214,
   218,
   220
  ]
 },
 "nbformat": 4,
 "nbformat_minor": 5
}