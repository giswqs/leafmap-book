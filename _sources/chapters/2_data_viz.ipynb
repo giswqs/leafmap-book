{
 "cells": [
  {
   "cell_type": "markdown",
   "id": "b4da4bb9",
   "metadata": {},
   "source": [
    "# Visualizing Geospatial Data\n",
    "\n",
    "```{contents}\n",
    ":local:\n",
    ":depth: 2\n",
    "```\n",
    "\n",
    "## Introduction\n",
    "\n",
    "Effective geospatial data visualization is the cornerstone of understanding the world around us. This chapter delves into the realm of visualizing geospatial data using the leafmap library. We will explore various techniques to display vector and raster data, create legends and colorbars to customize the visual appearance of maps, and leverage interactive features for enhanced exploration and analysis.\n",
    "\n",
    "## Technical requirements\n",
    "\n",
    "To follow along with this chapter, you will need to have leafmap and several optional dependencies installed. If you have already followed {numref}`ch1:install` - _Installing leafmap_, then you should already have a conda environment with all the necessary packages installed. Otherwise, you can create a new conda environment and install [pygis](https://pygis.gishub.org) with the following commands, which will automatically install leafmap and all the required dependencies:\n",
    "\n",
    "```bash\n",
    "conda create -n geo python\n",
    "conda activate geo\n",
    "conda install -c conda-forge mamba\n",
    "mamba install -c conda-forge pygis\n",
    "```\n",
    "\n",
    "Next, launch JupyterLab by typing the following commands in your terminal or Anaconda prompt:\n",
    "\n",
    "```bash\n",
    "jupyter lab\n",
    "```\n",
    "\n",
    "Alternatively, you can use leafmap in a cloud environment without installing anything on your local computer. Click on one of the following links to launch a cloud-based JupyterLab server:\n",
    "\n",
    "- [Open 2_data_viz.ipynb in Google Colab](https://colab.research.google.com/github/giswqs/leafmap-book/blob/master/chapters/2_data_viz.ipynb)\n",
    "- [Open 2_data_viz.ipynb in Amazon SageMaker Studio Lab](https://studiolab.sagemaker.aws/import/github/giswqs/leafmap-book/blob/master/chapters/2_data_viz.ipynb)\n",
    "- [Open 2_data_viz.ipynb in Microsoft Planetary Computer](https://pccompute.westeurope.cloudapp.azure.com/compute/hub/user-redirect/git-pull?repo=https://github.com/giswqs/leafmap-book&urlpath=lab/tree/leafmap-book/chapters/2_data_viz.ipynb&branch=master)\n",
    "\n",
    "Once in the selected cloud environment, you can uncomment the following line and run the cell to install pygis, which includes leafmap and all the necessary dependencies:"
   ]
  },
  {
   "cell_type": "code",
   "execution_count": null,
   "id": "e96457ab",
   "metadata": {},
   "outputs": [],
   "source": [
    "# %pip install pygis"
   ]
  },
  {
   "cell_type": "markdown",
   "id": "34d3b813",
   "metadata": {},
   "source": [
    "The installation process may take 2-3 minutes. Once pygis has been installed successfully, restart the kernel to enable the newly installed packages.\n",
    "\n",
    "To begin, import the necessary libraries that will be used in this chapter:"
   ]
  },
  {
   "cell_type": "code",
   "execution_count": null,
   "id": "238e1473",
   "metadata": {},
   "outputs": [],
   "source": [
    "import leafmap"
   ]
  },
  {
   "cell_type": "markdown",
   "id": "2085c721",
   "metadata": {},
   "source": [
    "## Visualizing vector data\n",
    "\n",
    "### GeoJSON\n",
    "\n",
    "#### Point data"
   ]
  },
  {
   "cell_type": "code",
   "execution_count": null,
   "id": "d4ee50f0",
   "metadata": {},
   "outputs": [],
   "source": [
    "cities = 'https://open.gishub.org/data/us/cities.geojson'"
   ]
  },
  {
   "cell_type": "code",
   "execution_count": null,
   "id": "d4d8f458",
   "metadata": {},
   "outputs": [],
   "source": [
    "m = leafmap.Map(center=[40, -100], zoom=4)\n",
    "m.add_geojson(cities, layer_name='Cities')\n",
    "m"
   ]
  },
  {
   "cell_type": "code",
   "execution_count": null,
   "id": "1e02caf0",
   "metadata": {},
   "outputs": [],
   "source": [
    "m = leafmap.Map(center=[40, -100], zoom=4)\n",
    "m.add_marker_cluster(cities, layer_name='Cities')\n",
    "m"
   ]
  },
  {
   "cell_type": "markdown",
   "id": "16b025f7",
   "metadata": {},
   "source": [
    "#### Line data"
   ]
  },
  {
   "cell_type": "code",
   "execution_count": null,
   "id": "c97f3712",
   "metadata": {},
   "outputs": [],
   "source": [
    "cables = 'https://open.gishub.org/data/vector/cables.geojson'"
   ]
  },
  {
   "cell_type": "code",
   "execution_count": null,
   "id": "7f434df2",
   "metadata": {},
   "outputs": [],
   "source": [
    "m = leafmap.Map(center=[0, 0], zoom=2)\n",
    "m.add_geojson(cables, layer_name=\"Submarine Cables\", zoom_to_layer=False)\n",
    "m"
   ]
  },
  {
   "cell_type": "code",
   "execution_count": null,
   "id": "8d917b8e",
   "metadata": {},
   "outputs": [],
   "source": [
    "m = leafmap.Map(center=[0, 0], zoom=2)\n",
    "m.add_basemap(\"CartoDB.DarkMatter\")\n",
    "callback = lambda feat: {\"color\": feat[\"properties\"][\"color\"], \"weight\": 1}\n",
    "m.add_geojson(cables, layer_name=\"Cable lines\", style_callback=callback)\n",
    "m"
   ]
  },
  {
   "cell_type": "markdown",
   "id": "43c69d39",
   "metadata": {},
   "source": [
    "#### Polygon data"
   ]
  },
  {
   "cell_type": "code",
   "execution_count": null,
   "id": "a6f0094f",
   "metadata": {},
   "outputs": [],
   "source": [
    "countries = \"https://open.gishub.org/data/world/countries.geojson\""
   ]
  },
  {
   "cell_type": "code",
   "execution_count": null,
   "id": "37941181",
   "metadata": {},
   "outputs": [],
   "source": [
    "m = leafmap.Map(center=[0, 0], zoom=2)\n",
    "m.add_geojson(countries, layer_name=\"Countries\")\n",
    "m"
   ]
  },
  {
   "cell_type": "code",
   "execution_count": null,
   "id": "ef4d588f",
   "metadata": {},
   "outputs": [],
   "source": [
    "m = leafmap.Map(center=[0, 0], zoom=2)\n",
    "style = {\n",
    "    \"stroke\": True,\n",
    "    \"color\": \"#0000ff\",\n",
    "    \"weight\": 2,\n",
    "    \"opacity\": 1,\n",
    "    \"fill\": True,\n",
    "    \"fillColor\": \"#0000ff\",\n",
    "    \"fillOpacity\": 0.1,\n",
    "}\n",
    "hover_style = {\"fillOpacity\": 0.7}\n",
    "m.add_geojson(countries, layer_name=\"Countries\", style=style, hover_style=hover_style)\n",
    "m"
   ]
  },
  {
   "cell_type": "markdown",
   "id": "12d899ea",
   "metadata": {},
   "source": [
    "### Shapefile"
   ]
  },
  {
   "cell_type": "code",
   "execution_count": null,
   "id": "3887eed3",
   "metadata": {},
   "outputs": [],
   "source": [
    "states = \"https://open.gishub.org/data/us/us_states.zip\""
   ]
  },
  {
   "cell_type": "code",
   "execution_count": null,
   "id": "dc534e83",
   "metadata": {},
   "outputs": [],
   "source": [
    "m = leafmap.Map(center=[40, -100], zoom=4)\n",
    "m.add_shp(states, layer_name=\"US States\")\n",
    "m"
   ]
  },
  {
   "cell_type": "markdown",
   "id": "f5846391",
   "metadata": {},
   "source": [
    "### GeoDataFrame"
   ]
  },
  {
   "cell_type": "code",
   "execution_count": null,
   "id": "0965e302",
   "metadata": {},
   "outputs": [],
   "source": [
    "import geopandas as gpd"
   ]
  },
  {
   "cell_type": "code",
   "execution_count": null,
   "id": "fe904e0e",
   "metadata": {},
   "outputs": [],
   "source": [
    "gdf = gpd.read_file(states)\n",
    "gdf.head()"
   ]
  },
  {
   "cell_type": "code",
   "execution_count": null,
   "id": "1ec32290",
   "metadata": {},
   "outputs": [],
   "source": [
    "m = leafmap.Map(center=[40, -100], zoom=4)\n",
    "m.add_gdf(gdf, layer_name=\"US States\")\n",
    "m"
   ]
  },
  {
   "cell_type": "markdown",
   "id": "78111e76",
   "metadata": {},
   "source": [
    "### GeoPackage"
   ]
  },
  {
   "cell_type": "code",
   "execution_count": null,
   "id": "33da3f94",
   "metadata": {},
   "outputs": [],
   "source": [
    "regions = \"https://open.gishub.org/data/us/us_regions.gpkg\""
   ]
  },
  {
   "cell_type": "code",
   "execution_count": null,
   "id": "fe3f4a88",
   "metadata": {},
   "outputs": [],
   "source": [
    "m = leafmap.Map(center=[40, -100], zoom=4)\n",
    "m.add_vector(regions, layer_name=\"US Regions\")\n",
    "m"
   ]
  },
  {
   "cell_type": "markdown",
   "id": "43ecf28e",
   "metadata": {},
   "source": [
    "### Vector tile layer"
   ]
  },
  {
   "cell_type": "code",
   "execution_count": null,
   "id": "dedd0d98",
   "metadata": {},
   "outputs": [],
   "source": [
    "m = leafmap.Map()\n",
    "url = \"https://planetarycomputer.microsoft.com/api/data/v1/vector/collections/ms-buildings/tilesets/global-footprints/tiles/{z}/{x}/{y}\"\n",
    "attribution = \"Microsoft\"\n",
    "vector_tile_layer_styles = {}\n",
    "m.add_vector_tile_layer(url, attribution, vector_tile_layer_styles)\n",
    "m"
   ]
  },
  {
   "cell_type": "markdown",
   "id": "4df420f4",
   "metadata": {},
   "source": [
    "## Visualizing raster data\n",
    "\n",
    "### GeoTIFF\n",
    "\n",
    "#### Single-band Rasters"
   ]
  },
  {
   "cell_type": "code",
   "execution_count": null,
   "id": "2bd4aa75",
   "metadata": {},
   "outputs": [],
   "source": [
    "dem = 'dem.tif'\n",
    "dem_url = 'https://open.gishub.org/data/raster/srtm90.tif'\n",
    "leafmap.download_file(url=dem_url, output=dem, overwrite=True)"
   ]
  },
  {
   "cell_type": "code",
   "execution_count": null,
   "id": "1553d19c",
   "metadata": {},
   "outputs": [],
   "source": [
    "m = leafmap.Map()\n",
    "m.add_raster(dem, cmap='terrain', layer_name=\"DEM\")\n",
    "m"
   ]
  },
  {
   "cell_type": "code",
   "execution_count": null,
   "id": "eee4b56e",
   "metadata": {},
   "outputs": [],
   "source": [
    "m.add_raster(dem, cmap='viridis', layer_name=\"DEM2\")"
   ]
  },
  {
   "cell_type": "markdown",
   "id": "8f9b03c1",
   "metadata": {},
   "source": [
    "#### Multi-band Rasters"
   ]
  },
  {
   "cell_type": "code",
   "execution_count": null,
   "id": "11a8a071",
   "metadata": {},
   "outputs": [],
   "source": [
    "landsat = 'landsat.tif'\n",
    "landsat_url = 'https://open.gishub.org/data/raster/landsat.tif'\n",
    "leafmap.download_file(url=landsat_url, output=landsat)"
   ]
  },
  {
   "cell_type": "code",
   "execution_count": null,
   "id": "9320372e",
   "metadata": {},
   "outputs": [],
   "source": [
    "m.add_raster(landsat, band=[4, 3, 2], vmin=1, vmax=100, layer_name=\"Landsat\")\n",
    "m"
   ]
  },
  {
   "cell_type": "markdown",
   "id": "9e97af81",
   "metadata": {},
   "source": [
    "### COG\n",
    "\n",
    "#### Introduction to COG\n",
    "\n",
    "#### Publicly Available COGs\n",
    "\n",
    "#### Visualizing COGs"
   ]
  },
  {
   "cell_type": "code",
   "execution_count": null,
   "id": "4604ef85",
   "metadata": {},
   "outputs": [],
   "source": [
    "import os\n",
    "os.environ['TITILER_ENDPOINT'] = 'https://titiler.xyz'"
   ]
  },
  {
   "cell_type": "code",
   "execution_count": null,
   "id": "1452a665",
   "metadata": {},
   "outputs": [],
   "source": [
    "url = 'https://opendata.digitalglobe.com/events/california-fire-2020/pre-event/2018-02-16/pine-gulch-fire20/1030010076004E00.tif'"
   ]
  },
  {
   "cell_type": "code",
   "execution_count": null,
   "id": "2f63d0b1",
   "metadata": {},
   "outputs": [],
   "source": [
    "leafmap.cog_bounds(url)"
   ]
  },
  {
   "cell_type": "code",
   "execution_count": null,
   "id": "ac28a668",
   "metadata": {},
   "outputs": [],
   "source": [
    "leafmap.cog_center(url)"
   ]
  },
  {
   "cell_type": "code",
   "execution_count": null,
   "id": "2ac71b57",
   "metadata": {},
   "outputs": [],
   "source": [
    "leafmap.cog_bands(url)"
   ]
  },
  {
   "cell_type": "code",
   "execution_count": null,
   "id": "179b2b83",
   "metadata": {},
   "outputs": [],
   "source": [
    "leafmap.cog_tile(url)"
   ]
  },
  {
   "cell_type": "code",
   "execution_count": null,
   "id": "4d82b435",
   "metadata": {},
   "outputs": [],
   "source": [
    "m = leafmap.Map()\n",
    "m.add_cog_layer(url, name=\"Fire (pre-event)\")\n",
    "m"
   ]
  },
  {
   "cell_type": "code",
   "execution_count": null,
   "id": "2f347d10",
   "metadata": {},
   "outputs": [],
   "source": [
    "url2 = 'https://opendata.digitalglobe.com/events/california-fire-2020/post-event/2020-08-14/pine-gulch-fire20/10300100AAC8DD00.tif'\n",
    "m.add_cog_layer(url2, name=\"Fire (post-event)\")"
   ]
  },
  {
   "cell_type": "markdown",
   "id": "6badf5ba",
   "metadata": {},
   "source": [
    "### STAC\n",
    "\n",
    "#### Why Use STAC\n",
    "\n",
    "#### Visualizing STAC"
   ]
  },
  {
   "cell_type": "code",
   "execution_count": null,
   "id": "e9a5ea8b",
   "metadata": {},
   "outputs": [],
   "source": [
    "m = leafmap.Map()"
   ]
  },
  {
   "cell_type": "code",
   "execution_count": null,
   "id": "93bf99c3",
   "metadata": {},
   "outputs": [],
   "source": [
    "url = 'https://canada-spot-ortho.s3.amazonaws.com/canada_spot_orthoimages/canada_spot5_orthoimages/S5_2007/S5_11055_6057_20070622/S5_11055_6057_20070622.json'"
   ]
  },
  {
   "cell_type": "code",
   "execution_count": null,
   "id": "5bf437bc",
   "metadata": {},
   "outputs": [],
   "source": [
    "leafmap.stac_bounds(url)"
   ]
  },
  {
   "cell_type": "code",
   "execution_count": null,
   "id": "cc3b6f7a",
   "metadata": {},
   "outputs": [],
   "source": [
    "leafmap.stac_center(url)"
   ]
  },
  {
   "cell_type": "code",
   "execution_count": null,
   "id": "c30eef53",
   "metadata": {},
   "outputs": [],
   "source": [
    "leafmap.stac_bands(url)"
   ]
  },
  {
   "cell_type": "code",
   "execution_count": null,
   "id": "bb0ca260",
   "metadata": {},
   "outputs": [],
   "source": [
    "leafmap.stac_tile(url, bands=['B3', 'B2', 'B1'])"
   ]
  },
  {
   "cell_type": "code",
   "execution_count": null,
   "id": "821ac19b",
   "metadata": {},
   "outputs": [],
   "source": [
    "m.add_stac_layer(url, bands=['pan'], name='Panchromatic')\n",
    "m"
   ]
  },
  {
   "cell_type": "code",
   "execution_count": null,
   "id": "339b8ce0",
   "metadata": {},
   "outputs": [],
   "source": [
    "m.add_stac_layer(url, bands=['B3', 'B2', 'B1'], name='False color')"
   ]
  },
  {
   "cell_type": "markdown",
   "id": "5c171a21",
   "metadata": {},
   "source": [
    "## Legends\n",
    "\n",
    "### Built-in legends"
   ]
  },
  {
   "cell_type": "code",
   "execution_count": null,
   "id": "51b83b18",
   "metadata": {},
   "outputs": [],
   "source": [
    "legends = leafmap.builtin_legends\n",
    "for legend in legends:\n",
    "    print(legend)"
   ]
  },
  {
   "cell_type": "code",
   "execution_count": null,
   "id": "c01f8555",
   "metadata": {},
   "outputs": [],
   "source": [
    "m = leafmap.Map(center=[40, -100], zoom=4)\n",
    "m.add_basemap('Esri.WorldImagery')\n",
    "m.add_basemap('NLCD 2021 CONUS Land Cover')\n",
    "m.add_legend(builtin_legend='NLCD', title='NLCD Land Cover Type')\n",
    "m"
   ]
  },
  {
   "cell_type": "markdown",
   "id": "490152bf",
   "metadata": {},
   "source": [
    "### Custom legends"
   ]
  },
  {
   "cell_type": "code",
   "execution_count": null,
   "id": "5d630952",
   "metadata": {},
   "outputs": [],
   "source": [
    "m = leafmap.Map(center=[40, -100], zoom=4)\n",
    "m.add_basemap('Esri.WorldImagery')\n",
    "m.add_basemap('NLCD 2021 CONUS Land Cover')\n",
    "\n",
    "legend_dict = {\n",
    "    '11 Open Water': '466b9f',\n",
    "    '12 Perennial Ice/Snow': 'd1def8',\n",
    "    '21 Developed, Open Space': 'dec5c5',\n",
    "    '22 Developed, Low Intensity': 'd99282',\n",
    "    '23 Developed, Medium Intensity': 'eb0000',\n",
    "    '24 Developed High Intensity': 'ab0000',\n",
    "    '31 Barren Land (Rock/Sand/Clay)': 'b3ac9f',\n",
    "    '41 Deciduous Forest': '68ab5f',\n",
    "    '42 Evergreen Forest': '1c5f2c',\n",
    "    '43 Mixed Forest': 'b5c58f',\n",
    "    '51 Dwarf Scrub': 'af963c',\n",
    "    '52 Shrub/Scrub': 'ccb879',\n",
    "    '71 Grassland/Herbaceous': 'dfdfc2',\n",
    "    '72 Sedge/Herbaceous': 'd1d182',\n",
    "    '73 Lichens': 'a3cc51',\n",
    "    '74 Moss': '82ba9e',\n",
    "    '81 Pasture/Hay': 'dcd939',\n",
    "    '82 Cultivated Crops': 'ab6c28',\n",
    "    '90 Woody Wetlands': 'b8d9eb',\n",
    "    '95 Emergent Herbaceous Wetlands': '6c9fb8',\n",
    "}\n",
    "\n",
    "m.add_legend(title=\"NLCD Land Cover Type\", legend_dict=legend_dict)\n",
    "m"
   ]
  },
  {
   "cell_type": "markdown",
   "id": "e3f9856f",
   "metadata": {},
   "source": [
    "## Colorbars"
   ]
  },
  {
   "cell_type": "code",
   "execution_count": null,
   "id": "23bb0e47",
   "metadata": {},
   "outputs": [],
   "source": [
    "import leafmap.colormaps as cm"
   ]
  },
  {
   "cell_type": "code",
   "execution_count": null,
   "id": "04e71634",
   "metadata": {},
   "outputs": [],
   "source": [
    "cm.palettes.dem"
   ]
  },
  {
   "cell_type": "code",
   "execution_count": null,
   "id": "ddbe0ce6",
   "metadata": {},
   "outputs": [],
   "source": [
    "cm.plot_colormap(colors=cm.palettes.dem, axis_off=True)"
   ]
  },
  {
   "cell_type": "code",
   "execution_count": null,
   "id": "6aebba9b",
   "metadata": {},
   "outputs": [],
   "source": [
    "cm.palettes.ndvi"
   ]
  },
  {
   "cell_type": "code",
   "execution_count": null,
   "id": "522c6d28",
   "metadata": {},
   "outputs": [],
   "source": [
    "cm.plot_colormap(colors=cm.palettes.ndvi)"
   ]
  },
  {
   "cell_type": "code",
   "execution_count": null,
   "id": "1649eec7",
   "metadata": {},
   "outputs": [],
   "source": [
    "cm.get_palette('terrain', n_class=8)"
   ]
  },
  {
   "cell_type": "code",
   "execution_count": null,
   "id": "b8718123",
   "metadata": {},
   "outputs": [],
   "source": [
    "cm.plot_colormap(colors=cm.get_palette('terrain', n_class=8))"
   ]
  },
  {
   "cell_type": "code",
   "execution_count": null,
   "id": "eac64eaa",
   "metadata": {},
   "outputs": [],
   "source": [
    "cm.plot_colormap(colors=[\"red\", \"green\", \"blue\"], label=\"Temperature\", font_size=12)"
   ]
  },
  {
   "cell_type": "code",
   "execution_count": null,
   "id": "d8292628",
   "metadata": {},
   "outputs": [],
   "source": [
    "cm.plot_colormap(\n",
    "    colors=[\"red\", \"green\", \"blue\"], discrete=True, label=\"Temperature\", font_size=12\n",
    ")"
   ]
  },
  {
   "cell_type": "code",
   "execution_count": null,
   "id": "eac09aee",
   "metadata": {},
   "outputs": [],
   "source": [
    "cm.plot_colormap(\n",
    "    'terrain',\n",
    "    label=\"Elevation\",\n",
    "    width=8.0,\n",
    "    height=0.4,\n",
    "    orientation='horizontal',\n",
    "    vmin=0,\n",
    "    vmax=1000,\n",
    ")"
   ]
  },
  {
   "cell_type": "code",
   "execution_count": null,
   "id": "4c7ba838",
   "metadata": {},
   "outputs": [],
   "source": [
    "cm.plot_colormap(\n",
    "    'terrain',\n",
    "    label=\"Elevation\",\n",
    "    width=0.4,\n",
    "    height=4,\n",
    "    orientation='vertical',\n",
    "    vmin=0,\n",
    "    vmax=1000,\n",
    ")"
   ]
  },
  {
   "cell_type": "code",
   "execution_count": null,
   "id": "3968761d",
   "metadata": {},
   "outputs": [],
   "source": [
    "m = leafmap.Map()\n",
    "m.add_basemap(\"OpenTopoMap\")\n",
    "m.add_colormap(\n",
    "    'terrain',\n",
    "    label=\"Elevation\",\n",
    "    width=3.0,\n",
    "    height=0.25,\n",
    "    orientation='horizontal',\n",
    "    vmin=0,\n",
    "    vmax=4000,\n",
    ")\n",
    "m"
   ]
  },
  {
   "cell_type": "code",
   "execution_count": null,
   "id": "0525e5d0",
   "metadata": {},
   "outputs": [],
   "source": [
    "m = leafmap.Map()\n",
    "m.add_basemap(\"OpenTopoMap\")\n",
    "m.add_colormap(\n",
    "    'terrain',\n",
    "    label=\"Elevation\",\n",
    "    width=0.3,\n",
    "    height=3,\n",
    "    orientation='vertical',\n",
    "    vmin=0,\n",
    "    vmax=4000,\n",
    ")\n",
    "m"
   ]
  },
  {
   "cell_type": "code",
   "execution_count": null,
   "id": "98c6a209",
   "metadata": {},
   "outputs": [],
   "source": [
    "cm.plot_colormaps(width=8, height=0.4)"
   ]
  },
  {
   "cell_type": "markdown",
   "id": "55cba831",
   "metadata": {},
   "source": [
    "## Labels"
   ]
  },
  {
   "cell_type": "code",
   "execution_count": null,
   "id": "e1a77d5f",
   "metadata": {},
   "outputs": [],
   "source": [
    "data = \"https://open.gishub.org/data/us/us_states.geojson\""
   ]
  },
  {
   "cell_type": "code",
   "execution_count": null,
   "id": "b164f601",
   "metadata": {},
   "outputs": [],
   "source": [
    "m = leafmap.Map(center=[40, -100], zoom=4, layers_control=True)"
   ]
  },
  {
   "cell_type": "code",
   "execution_count": null,
   "id": "73a577ff",
   "metadata": {},
   "outputs": [],
   "source": [
    "m.add_labels(\n",
    "    data,\n",
    "    \"id\",\n",
    "    font_size=\"12pt\",\n",
    "    font_color=\"blue\",\n",
    "    font_family=\"arial\",\n",
    "    font_weight=\"bold\",\n",
    ")\n",
    "m"
   ]
  },
  {
   "cell_type": "code",
   "execution_count": null,
   "id": "c66df0ef",
   "metadata": {},
   "outputs": [],
   "source": [
    "m.remove_labels()"
   ]
  },
  {
   "cell_type": "markdown",
   "id": "7fc33679",
   "metadata": {},
   "source": [
    "## Split maps"
   ]
  },
  {
   "cell_type": "code",
   "execution_count": null,
   "id": "fafdb3c9",
   "metadata": {},
   "outputs": [],
   "source": [
    "leafmap.split_map(\n",
    "    left_layer=\"Esri.WorldTopoMap\", right_layer=\"OpenTopoMap\", zoom_control=False\n",
    ")"
   ]
  },
  {
   "cell_type": "code",
   "execution_count": null,
   "id": "5e61f7f2",
   "metadata": {},
   "outputs": [],
   "source": [
    "m = leafmap.Map(center=[36.1, -114.9], zoom=10)\n",
    "m.split_map(\n",
    "    left_layer=\"NLCD 2001 CONUS Land Cover\",\n",
    "    right_layer=\"NLCD 2021 CONUS Land Cover\",\n",
    "    left_label=\"2001\",\n",
    "    right_label=\"2021\",\n",
    "    add_close_button=False,\n",
    ")\n",
    "m"
   ]
  },
  {
   "cell_type": "markdown",
   "id": "5633d6c9",
   "metadata": {},
   "source": [
    "## Linked maps"
   ]
  },
  {
   "cell_type": "code",
   "execution_count": null,
   "id": "1f02eb97",
   "metadata": {},
   "outputs": [],
   "source": [
    "layers = ['Stamen.Terrain', 'OpenTopoMap']\n",
    "leafmap.linked_maps(rows=1, cols=2, height='400px', layers=layers)"
   ]
  },
  {
   "cell_type": "code",
   "execution_count": null,
   "id": "952efcbe",
   "metadata": {},
   "outputs": [],
   "source": [
    "layers = [str(f\"NLCD {year} CONUS Land Cover\") for year in [2001, 2006, 2011, 2021]]\n",
    "labels = [str(f\"NLCD {year}\") for year in [2001, 2006, 2011, 2021]]\n",
    "leafmap.linked_maps(\n",
    "    rows=2,\n",
    "    cols=2,\n",
    "    height='300px',\n",
    "    layers=layers,\n",
    "    labels=labels,\n",
    "    center=[36.1, -115.2],\n",
    "    zoom=9,\n",
    ")"
   ]
  },
  {
   "cell_type": "markdown",
   "id": "597c919e",
   "metadata": {},
   "source": [
    "## Summary\n",
    "\n",
    "## References\n",
    "\n",
    "- https://leafmap.org/notebooks/03_cog_stac\n",
    "- https://leafmap.org/notebooks/05_load_raster\n",
    "- https://leafmap.org/notebooks/10_add_vector\n",
    "- https://leafmap.org/notebooks/06_legend\n",
    "- https://leafmap.org/notebooks/07_colorbar\n",
    "- https://leafmap.org/notebooks/11_linked_maps\n",
    "- https://leafmap.org/notebooks/12_split_map\n",
    "- https://leafmap.org/notebooks/23_colormaps\n",
    "- https://leafmap.org/notebooks/36_add_labels\n",
    "- https://leafmap.org/notebooks/59_create_legend\n",
    "- https://leafmap.org/notebooks/19_map_to_html\n",
    "- https://leafmap.org/notebooks/17_vector_tile_layer"
   ]
  }
 ],
 "metadata": {
  "jupytext": {
   "text_representation": {
    "extension": ".md",
    "format_name": "myst",
    "format_version": 0.13,
    "jupytext_version": "1.15.0"
   }
  },
  "kernelspec": {
   "display_name": "Python 3",
   "language": "python",
   "name": "python3"
  },
  "source_map": [
   12,
   50,
   52,
   58,
   60,
   68,
   72,
   78,
   82,
   86,
   90,
   96,
   102,
   106,
   110,
   116,
   130,
   134,
   138,
   142,
   146,
   150,
   155,
   159,
   163,
   167,
   171,
   175,
   182,
   190,
   196,
   202,
   204,
   208,
   214,
   217,
   227,
   232,
   236,
   240,
   244,
   248,
   252,
   258,
   261,
   269,
   273,
   277,
   281,
   285,
   289,
   293,
   298,
   300,
   306,
   312,
   318,
   322,
   352,
   356,
   360,
   366,
   370,
   374,
   378,
   384,
   388,
   392,
   398,
   410,
   422,
   437,
   452,
   454,
   458,
   462,
   466,
   478,
   480,
   484,
   490,
   500,
   504,
   509,
   521
  ]
 },
 "nbformat": 4,
 "nbformat_minor": 5
}