{
 "cells": [
  {
   "cell_type": "markdown",
   "id": "4a273945",
   "metadata": {},
   "source": [
    "# Basic Map Visualization\n",
    "\n",
    "## Introduction\n",
    "\n",
    "## Summary\n",
    "\n",
    "## References\n",
    "\n",
    "- https://leafmap.org/notebooks/27_basemap_gallery\n",
    "- https://leafmap.org/notebooks/03_cog_stac\n",
    "- https://leafmap.org/notebooks/05_load_raster\n",
    "- https://leafmap.org/notebooks/10_add_vector\n",
    "- https://leafmap.org/notebooks/06_legend\n",
    "- https://leafmap.org/notebooks/07_colorbar\n",
    "- https://leafmap.org/notebooks/11_linked_maps\n",
    "- https://leafmap.org/notebooks/12_split_map\n",
    "- https://leafmap.org/notebooks/23_colormaps\n",
    "- https://leafmap.org/notebooks/36_add_labels\n",
    "- https://leafmap.org/notebooks/59_create_legend\n",
    "- https://leafmap.org/notebooks/19_map_to_html"
   ]
  }
 ],
 "metadata": {
  "jupytext": {
   "text_representation": {
    "extension": ".md",
    "format_name": "myst",
    "format_version": 0.13,
    "jupytext_version": "1.11.5"
   }
  },
  "kernelspec": {
   "display_name": "Python 3",
   "language": "python",
   "name": "python3"
  },
  "source_map": [
   12
  ]
 },
 "nbformat": 4,
 "nbformat_minor": 5
}