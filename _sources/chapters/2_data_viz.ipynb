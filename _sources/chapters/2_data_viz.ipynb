{
 "cells": [
  {
   "cell_type": "markdown",
   "id": "b12c8f13",
   "metadata": {},
   "source": [
    "# Basic Map Visualization\n",
    "\n",
    "```{contents}\n",
    ":local:\n",
    ":depth: 2\n",
    "```\n",
    "\n",
    "## Introduction\n",
    "\n",
    "## Visualizing vector data"
   ]
  },
  {
   "cell_type": "code",
   "execution_count": null,
   "id": "625cc2cf",
   "metadata": {},
   "outputs": [],
   "source": [
    "import leafmap"
   ]
  },
  {
   "cell_type": "markdown",
   "id": "93c02d46",
   "metadata": {},
   "source": [
    "### GeoJSON\n",
    "\n",
    "### Shapefile\n",
    "\n",
    "### GeoPackage\n",
    "\n",
    "### GeoDataFrame\n",
    "\n",
    "### Vector tile layer\n",
    "\n",
    "## Visualizing raster data\n",
    "\n",
    "### GeoTIFF\n",
    "\n",
    "### COG\n",
    "\n",
    "### STAC\n",
    "\n",
    "## Legends\n",
    "\n",
    "## Colorbars\n",
    "\n",
    "## Labels\n",
    "\n",
    "## Split maps\n",
    "\n",
    "## Linked maps\n",
    "\n",
    "## Summary\n",
    "\n",
    "## References\n",
    "\n",
    "- https://leafmap.org/notebooks/27_basemap_gallery\n",
    "- https://leafmap.org/notebooks/03_cog_stac\n",
    "- https://leafmap.org/notebooks/05_load_raster\n",
    "- https://leafmap.org/notebooks/10_add_vector\n",
    "- https://leafmap.org/notebooks/06_legend\n",
    "- https://leafmap.org/notebooks/07_colorbar\n",
    "- https://leafmap.org/notebooks/11_linked_maps\n",
    "- https://leafmap.org/notebooks/12_split_map\n",
    "- https://leafmap.org/notebooks/23_colormaps\n",
    "- https://leafmap.org/notebooks/36_add_labels\n",
    "- https://leafmap.org/notebooks/59_create_legend\n",
    "- https://leafmap.org/notebooks/19_map_to_html\n",
    "- https://leafmap.org/notebooks/17_vector_tile_layer"
   ]
  }
 ],
 "metadata": {
  "jupytext": {
   "text_representation": {
    "extension": ".md",
    "format_name": "myst",
    "format_version": 0.13,
    "jupytext_version": "1.11.5"
   }
  },
  "kernelspec": {
   "display_name": "Python 3",
   "language": "python",
   "name": "python3"
  },
  "source_map": [
   12,
   25,
   27
  ]
 },
 "nbformat": 4,
 "nbformat_minor": 5
}