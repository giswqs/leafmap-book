{
 "cells": [
  {
   "cell_type": "markdown",
   "id": "073c6cae",
   "metadata": {},
   "source": [
    "# Deep Learning Applications\n",
    "\n",
    "```{contents}\n",
    ":local:\n",
    ":depth: 2\n",
    "```\n",
    "\n",
    "## Introduction\n",
    "\n",
    "## Technical requirements"
   ]
  },
  {
   "cell_type": "code",
   "execution_count": null,
   "id": "1763680b",
   "metadata": {},
   "outputs": [],
   "source": []
  },
  {
   "cell_type": "markdown",
   "id": "f22b7fcc",
   "metadata": {},
   "source": [
    "## Image Segmentation\n",
    "\n",
    "## Earthformer\n",
    "\n",
    "## Summary\n",
    "\n",
    "## References\n",
    "\n",
    "- https://leafmap.org/notebooks/75_segment_anything"
   ]
  }
 ],
 "metadata": {
  "jupytext": {
   "text_representation": {
    "extension": ".md",
    "format_name": "myst",
    "format_version": 0.13,
    "jupytext_version": "1.11.5"
   }
  },
  "kernelspec": {
   "display_name": "Python 3",
   "language": "python",
   "name": "python3"
  },
  "source_map": [
   12,
   25,
   27
  ]
 },
 "nbformat": 4,
 "nbformat_minor": 5
}