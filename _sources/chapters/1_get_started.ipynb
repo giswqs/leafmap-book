{
 "cells": [
  {
   "cell_type": "markdown",
   "id": "e12640ef",
   "metadata": {},
   "source": [
    "# Getting Started with Leafmap\n",
    "\n",
    "## Introduction\n",
    "\n",
    "Welcome to the world of geospatial data science! In this chapter, we will introduce the [leafmap](https://leafmap.org) Python package for interactive visualization and analysis of geospatial data. We will demonstrate how to use it to create interactive maps using different mapping backends and change basemaps interactively. We will also show you how to use leafmap with various cloud-computing platforms, including Google Colab, Amazon SageMaker Studio Lab, and Microsoft Planetary Computer.\n",
    "\n",
    "## Geospatial data science\n",
    "\n",
    "## Introducing leafmap\n",
    "\n",
    "## Key features\n",
    "\n",
    "## Installation\n",
    "\n",
    "### Installing with conda\n",
    "\n",
    "```bash\n",
    "conda create -n geo python\n",
    "conda activate geo\n",
    "conda install -c conda-forge mamba\n",
    "mamba install -c conda-forge leafmap\n",
    "```\n",
    "\n",
    "```bash\n",
    "mamba install -c conda-forge pygis\n",
    "```\n",
    "\n",
    "### Installing with pip\n",
    "\n",
    "```bash\n",
    "pip install leafmap\n",
    "```\n",
    "\n",
    "### Installing from source\n",
    "\n",
    "```bash\n",
    "git clone https://github.com/opengeos/leafmap\n",
    "cd leafmap\n",
    "pip install .\n",
    "```\n",
    "\n",
    "```bash\n",
    "pip install git+https://github.com/opengeos/leafmap\n",
    "```\n",
    "\n",
    "### Upgrading leafmap\n",
    "\n",
    "```bash\n",
    "pip install -U leafmap\n",
    "```\n",
    "\n",
    "```bash\n",
    "conda update -c conda-forge leafmap\n",
    "```"
   ]
  },
  {
   "cell_type": "code",
   "execution_count": null,
   "id": "8bbaa4cb",
   "metadata": {},
   "outputs": [],
   "source": [
    "import leafmap\n",
    "leafmap.update_package()"
   ]
  },
  {
   "cell_type": "markdown",
   "id": "5193cc80",
   "metadata": {},
   "source": [
    "### Using Docker\n",
    "\n",
    "```bash\n",
    "docker run -it -p 8888:8888 giswqs/leafmap:latest\n",
    "```\n",
    "\n",
    "## JupyterLab\n",
    "\n",
    "```bash\n",
    "conda activate geo\n",
    "```\n",
    "\n",
    "```bash\n",
    "jupyter lab\n",
    "```"
   ]
  },
  {
   "cell_type": "code",
   "execution_count": null,
   "id": "91c22ed6",
   "metadata": {},
   "outputs": [],
   "source": [
    "import leafmap\n",
    "\n",
    "m = leafmap.Map()\n",
    "m"
   ]
  },
  {
   "cell_type": "markdown",
   "id": "ddd9cf29",
   "metadata": {},
   "source": [
    "## Google Colab"
   ]
  },
  {
   "cell_type": "code",
   "execution_count": null,
   "id": "e779e181",
   "metadata": {},
   "outputs": [],
   "source": [
    "%pip install leafmap"
   ]
  },
  {
   "cell_type": "code",
   "execution_count": null,
   "id": "71db6539",
   "metadata": {},
   "outputs": [],
   "source": [
    "import leafmap\n",
    "\n",
    "m = leafmap.Map()\n",
    "m"
   ]
  },
  {
   "cell_type": "markdown",
   "id": "e4d2c485",
   "metadata": {},
   "source": [
    "## Amazon SageMaker Studio Lab\n",
    "\n",
    "```bash\n",
    "!conda install -c conda-forge leafmap -y\n",
    "```"
   ]
  },
  {
   "cell_type": "code",
   "execution_count": null,
   "id": "9a0ae943",
   "metadata": {},
   "outputs": [],
   "source": [
    "import leafmap\n",
    "\n",
    "m = leafmap.Map()\n",
    "m"
   ]
  },
  {
   "cell_type": "markdown",
   "id": "2642d653",
   "metadata": {},
   "source": [
    "## Microsoft Planetary Computer\n",
    "\n",
    "```bash\n",
    "!mamba update -c conda-forge leafmap -y\n",
    "```"
   ]
  },
  {
   "cell_type": "code",
   "execution_count": null,
   "id": "c97e7a55",
   "metadata": {},
   "outputs": [],
   "source": [
    "import leafmap\n",
    "\n",
    "m = leafmap.Map()\n",
    "m"
   ]
  },
  {
   "cell_type": "markdown",
   "id": "4025dbde",
   "metadata": {},
   "source": [
    "## Mapping backends\n",
    "\n",
    "```bash\n",
    "mamba install -c conda-forge pygis\n",
    "```\n",
    "\n",
    "### Ipyleaflet"
   ]
  },
  {
   "cell_type": "code",
   "execution_count": null,
   "id": "d05010cc",
   "metadata": {},
   "outputs": [],
   "source": [
    "import leafmap"
   ]
  },
  {
   "cell_type": "code",
   "execution_count": null,
   "id": "aba52104",
   "metadata": {},
   "outputs": [],
   "source": [
    "m = leafmap.Map(center=[37.75, -122.43], zoom=12, height='550px')\n",
    "m"
   ]
  },
  {
   "cell_type": "code",
   "execution_count": null,
   "id": "1a76d3e5",
   "metadata": {},
   "outputs": [],
   "source": [
    "m = leafmap.Map(toolbar_control=False, draw_control=False)\n",
    "m"
   ]
  },
  {
   "cell_type": "code",
   "execution_count": null,
   "id": "700748f0",
   "metadata": {},
   "outputs": [],
   "source": [
    "m.clear_controls()\n",
    "m"
   ]
  },
  {
   "cell_type": "code",
   "execution_count": null,
   "id": "cbaebd1e",
   "metadata": {},
   "outputs": [],
   "source": [
    "m.to_html(\"map.html\", title=\"My Map\", width=\"100%\", height=\"800px\")"
   ]
  },
  {
   "cell_type": "markdown",
   "id": "90498d5f",
   "metadata": {},
   "source": [
    "### Folium"
   ]
  },
  {
   "cell_type": "code",
   "execution_count": null,
   "id": "b9503f89",
   "metadata": {},
   "outputs": [],
   "source": [
    "import leafmap.foliumap as leafmap"
   ]
  },
  {
   "cell_type": "code",
   "execution_count": null,
   "id": "c83bc21d",
   "metadata": {},
   "outputs": [],
   "source": [
    "m = leafmap.Map(center=[37.75, -122.43], zoom=12, height='500px')\n",
    "m"
   ]
  },
  {
   "cell_type": "code",
   "execution_count": null,
   "id": "ff4682ee",
   "metadata": {},
   "outputs": [],
   "source": [
    "m.to_html('folium.html')"
   ]
  },
  {
   "cell_type": "markdown",
   "id": "c176defc",
   "metadata": {},
   "source": [
    "### Bokeh"
   ]
  },
  {
   "cell_type": "code",
   "execution_count": null,
   "id": "643e7290",
   "metadata": {},
   "outputs": [],
   "source": [
    "import leafmap.bokehmap as leafmap"
   ]
  },
  {
   "cell_type": "code",
   "execution_count": null,
   "id": "ae11c4c7",
   "metadata": {},
   "outputs": [],
   "source": [
    "m = leafmap.Map(center=[40, -100], zoom=4, height=400)\n",
    "m"
   ]
  },
  {
   "cell_type": "markdown",
   "id": "192dff36",
   "metadata": {},
   "source": [
    "### Plotly"
   ]
  },
  {
   "cell_type": "code",
   "execution_count": null,
   "id": "eeae24a1",
   "metadata": {},
   "outputs": [],
   "source": [
    "import leafmap.plotlymap as leafmap"
   ]
  },
  {
   "cell_type": "code",
   "execution_count": null,
   "id": "53147a57",
   "metadata": {},
   "outputs": [],
   "source": [
    "m = leafmap.Map(center=[20, 0], zoom=1, height=400)\n",
    "m"
   ]
  },
  {
   "cell_type": "code",
   "execution_count": null,
   "id": "166c2595",
   "metadata": {},
   "outputs": [],
   "source": [
    "# leafmap.fix_widget_error()"
   ]
  },
  {
   "cell_type": "markdown",
   "id": "9bcd901c",
   "metadata": {},
   "source": [
    "### Pydeck"
   ]
  },
  {
   "cell_type": "code",
   "execution_count": null,
   "id": "eeb1a4c2",
   "metadata": {},
   "outputs": [],
   "source": [
    "import leafmap.deck as leafmap"
   ]
  },
  {
   "cell_type": "code",
   "execution_count": null,
   "id": "8433a8c5",
   "metadata": {},
   "outputs": [],
   "source": [
    "m = leafmap.Map(center=[20, 0], zoom=1)\n",
    "m"
   ]
  },
  {
   "cell_type": "markdown",
   "id": "4ae292b9",
   "metadata": {},
   "source": [
    "### KeplerGL"
   ]
  },
  {
   "cell_type": "code",
   "execution_count": null,
   "id": "c5ba2ca2",
   "metadata": {},
   "outputs": [],
   "source": [
    "import leafmap.kepler as leafmap"
   ]
  },
  {
   "cell_type": "code",
   "execution_count": null,
   "id": "5730f50d",
   "metadata": {},
   "outputs": [],
   "source": [
    "m = leafmap.Map(center=[20, 0], zoom=1)\n",
    "m"
   ]
  },
  {
   "cell_type": "markdown",
   "id": "f36e7c7d",
   "metadata": {},
   "source": [
    "## Adding basemaps\n",
    "\n",
    "### Built-in basemaps"
   ]
  },
  {
   "cell_type": "code",
   "execution_count": null,
   "id": "a3cfa5cb",
   "metadata": {},
   "outputs": [],
   "source": [
    "import leafmap"
   ]
  },
  {
   "cell_type": "code",
   "execution_count": null,
   "id": "216603b3",
   "metadata": {},
   "outputs": [],
   "source": [
    "m = leafmap.Map(basemap='OpenTopoMap')\n",
    "m"
   ]
  },
  {
   "cell_type": "code",
   "execution_count": null,
   "id": "debee717",
   "metadata": {},
   "outputs": [],
   "source": [
    "m.add_basemap('Stamen.Terrain')"
   ]
  },
  {
   "cell_type": "code",
   "execution_count": null,
   "id": "82855b68",
   "metadata": {},
   "outputs": [],
   "source": [
    "for basemap in leafmap.basemaps.keys():\n",
    "    print(basemap)"
   ]
  },
  {
   "cell_type": "code",
   "execution_count": null,
   "id": "3e406944",
   "metadata": {},
   "outputs": [],
   "source": [
    "len(leafmap.basemaps)"
   ]
  },
  {
   "cell_type": "markdown",
   "id": "afbe7ab5",
   "metadata": {},
   "source": [
    "### XYZ tiles"
   ]
  },
  {
   "cell_type": "code",
   "execution_count": null,
   "id": "f48f70c8",
   "metadata": {},
   "outputs": [],
   "source": [
    "m = leafmap.Map()\n",
    "m.add_tile_layer(\n",
    "    url=\"https://mt1.google.com/vt/lyrs=p&x={x}&y={y}&z={z}\",\n",
    "    name=\"Google Terrain\",\n",
    "    attribution=\"Google\",\n",
    ")\n",
    "m"
   ]
  },
  {
   "cell_type": "markdown",
   "id": "0778ff34",
   "metadata": {},
   "source": [
    "### WMS tiles"
   ]
  },
  {
   "cell_type": "code",
   "execution_count": null,
   "id": "0c432df3",
   "metadata": {},
   "outputs": [],
   "source": [
    "m = leafmap.Map(center=[40, -100], zoom=4)\n",
    "url = 'https://www.mrlc.gov/geoserver/mrlc_display/NLCD_2019_Land_Cover_L48/wms?'\n",
    "m.add_wms_layer(\n",
    "    url=url,\n",
    "    layers='NLCD_2019_Land_Cover_L48',\n",
    "    name='NLCD 2019',\n",
    "    format='image/png',\n",
    "    attribution='MRLC',\n",
    "    transparent=True,\n",
    ")\n",
    "m"
   ]
  },
  {
   "cell_type": "markdown",
   "id": "419b887f",
   "metadata": {},
   "source": [
    "## Summary\n",
    "\n",
    "## References\n",
    "\n",
    "- https://leafmap.org/notebooks/01_leafmap_intro\n",
    "- https://leafmap.org/notebooks/02_using_basemaps\n",
    "- https://leafmap.org/notebooks/26_kepler_gl\n",
    "- https://leafmap.org/notebooks/65_sagemaker\n",
    "- https://leafmap.org/notebooks/26_kepler_gl\n",
    "- https://leafmap.org/notebooks/29_pydeck\n",
    "- https://leafmap.org/notebooks/58_bokeh"
   ]
  }
 ],
 "metadata": {
  "jupytext": {
   "text_representation": {
    "extension": ".md",
    "format_name": "myst",
    "format_version": 0.13,
    "jupytext_version": "1.14.5"
   }
  },
  "kernelspec": {
   "display_name": "Python 3",
   "language": "python",
   "name": "python3"
  },
  "source_map": [
   12,
   69,
   72,
   90,
   95,
   99,
   103,
   108,
   116,
   121,
   129,
   134,
   144,
   148,
   153,
   158,
   163,
   165,
   169,
   173,
   178,
   180,
   184,
   188,
   191,
   195,
   199,
   204,
   206,
   210,
   214,
   217,
   221,
   225,
   228,
   234,
   238,
   243,
   247,
   252,
   254,
   258,
   266,
   270,
   282
  ]
 },
 "nbformat": 4,
 "nbformat_minor": 5
}