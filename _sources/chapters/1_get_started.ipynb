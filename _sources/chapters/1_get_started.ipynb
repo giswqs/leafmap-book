{
 "cells": [
  {
   "cell_type": "markdown",
   "id": "857fce6d",
   "metadata": {},
   "source": [
    "# Getting Started with Leafmap\n",
    "\n",
    "```{contents}\n",
    ":local:\n",
    ":depth: 2\n",
    "```\n",
    "\n",
    "## Introduction\n",
    "\n",
    "Welcome to the world of geospatial data science! In this chapter, we will introduce the [leafmap](https://leafmap.org) Python package for interactive visualization and analysis of geospatial data. We will demonstrate how to use it to create interactive maps using different mapping backends and change basemaps interactively. We will also show you how to use leafmap with various cloud-computing platforms, including Google Colab, Amazon SageMaker Studio Lab, and Microsoft Planetary Computer.\n",
    "\n",
    "## Geospatial data science\n",
    "\n",
    "## Introducing leafmap\n",
    "\n",
    "## Key features\n",
    "\n",
    "## Installing leafmap\n",
    "\n",
    "### Installing with conda\n",
    "\n",
    "```bash\n",
    "conda create -n geo python\n",
    "conda activate geo\n",
    "conda install -c conda-forge mamba\n",
    "mamba install -c conda-forge leafmap\n",
    "```\n",
    "\n",
    "```bash\n",
    "mamba install -c conda-forge pygis\n",
    "```\n",
    "\n",
    "### Installing with pip\n",
    "\n",
    "```bash\n",
    "pip install leafmap\n",
    "```\n",
    "\n",
    "### Installing from source\n",
    "\n",
    "```bash\n",
    "git clone https://github.com/opengeos/leafmap\n",
    "cd leafmap\n",
    "pip install .\n",
    "```\n",
    "\n",
    "```bash\n",
    "pip install git+https://github.com/opengeos/leafmap\n",
    "```\n",
    "\n",
    "### Upgrading leafmap\n",
    "\n",
    "```bash\n",
    "pip install -U leafmap\n",
    "```\n",
    "\n",
    "```bash\n",
    "conda update -c conda-forge leafmap\n",
    "```"
   ]
  },
  {
   "cell_type": "code",
   "execution_count": null,
   "id": "9027d651",
   "metadata": {},
   "outputs": [],
   "source": [
    "import leafmap\n",
    "leafmap.update_package()"
   ]
  },
  {
   "cell_type": "markdown",
   "id": "48c12110",
   "metadata": {},
   "source": [
    "### Using Docker\n",
    "\n",
    "```bash\n",
    "docker run -it -p 8888:8888 giswqs/leafmap:latest\n",
    "```\n",
    "\n",
    "## JupyterLab\n",
    "\n",
    "```bash\n",
    "conda activate geo\n",
    "```\n",
    "\n",
    "```bash\n",
    "jupyter lab\n",
    "```"
   ]
  },
  {
   "cell_type": "code",
   "execution_count": null,
   "id": "e2b55a8d",
   "metadata": {},
   "outputs": [],
   "source": [
    "import leafmap\n",
    "\n",
    "m = leafmap.Map()\n",
    "m"
   ]
  },
  {
   "cell_type": "markdown",
   "id": "9f8afc07",
   "metadata": {},
   "source": [
    "## Google Colab"
   ]
  },
  {
   "cell_type": "code",
   "execution_count": null,
   "id": "e3466296",
   "metadata": {},
   "outputs": [],
   "source": [
    "%pip install leafmap"
   ]
  },
  {
   "cell_type": "code",
   "execution_count": null,
   "id": "1c8a4bc3",
   "metadata": {},
   "outputs": [],
   "source": [
    "import leafmap\n",
    "\n",
    "m = leafmap.Map()\n",
    "m"
   ]
  },
  {
   "cell_type": "markdown",
   "id": "7fc7218c",
   "metadata": {},
   "source": [
    "## Amazon SageMaker Studio Lab\n",
    "\n",
    "```bash\n",
    "!conda install -c conda-forge leafmap -y\n",
    "```"
   ]
  },
  {
   "cell_type": "code",
   "execution_count": null,
   "id": "bfb511f1",
   "metadata": {},
   "outputs": [],
   "source": [
    "import leafmap\n",
    "\n",
    "m = leafmap.Map()\n",
    "m"
   ]
  },
  {
   "cell_type": "markdown",
   "id": "cf988e6d",
   "metadata": {},
   "source": [
    "## Microsoft Planetary Computer\n",
    "\n",
    "```bash\n",
    "!mamba update -c conda-forge leafmap -y\n",
    "```"
   ]
  },
  {
   "cell_type": "code",
   "execution_count": null,
   "id": "adc21c95",
   "metadata": {},
   "outputs": [],
   "source": [
    "import leafmap\n",
    "\n",
    "m = leafmap.Map()\n",
    "m"
   ]
  },
  {
   "cell_type": "markdown",
   "id": "6f79eb50",
   "metadata": {},
   "source": [
    "## Mapping backends\n",
    "\n",
    "```bash\n",
    "mamba install -c conda-forge pygis\n",
    "```\n",
    "\n",
    "### Ipyleaflet"
   ]
  },
  {
   "cell_type": "code",
   "execution_count": null,
   "id": "20e379e3",
   "metadata": {},
   "outputs": [],
   "source": [
    "import leafmap"
   ]
  },
  {
   "cell_type": "code",
   "execution_count": null,
   "id": "c82a8206",
   "metadata": {},
   "outputs": [],
   "source": [
    "m = leafmap.Map(center=[37.75, -122.43], zoom=12, height='550px')\n",
    "m"
   ]
  },
  {
   "cell_type": "code",
   "execution_count": null,
   "id": "1ad38f1a",
   "metadata": {},
   "outputs": [],
   "source": [
    "m = leafmap.Map(toolbar_control=False, draw_control=False)\n",
    "m"
   ]
  },
  {
   "cell_type": "code",
   "execution_count": null,
   "id": "e654db85",
   "metadata": {},
   "outputs": [],
   "source": [
    "m.clear_controls()\n",
    "m"
   ]
  },
  {
   "cell_type": "code",
   "execution_count": null,
   "id": "9e85b188",
   "metadata": {},
   "outputs": [],
   "source": [
    "m.to_html(\"map.html\", title=\"My Map\", width=\"100%\", height=\"800px\")"
   ]
  },
  {
   "cell_type": "markdown",
   "id": "28618aa0",
   "metadata": {},
   "source": [
    "### Folium"
   ]
  },
  {
   "cell_type": "code",
   "execution_count": null,
   "id": "bc8a6d4d",
   "metadata": {},
   "outputs": [],
   "source": [
    "import leafmap.foliumap as leafmap"
   ]
  },
  {
   "cell_type": "code",
   "execution_count": null,
   "id": "2e2cf0d9",
   "metadata": {},
   "outputs": [],
   "source": [
    "m = leafmap.Map(center=[37.75, -122.43], zoom=12, height='500px')\n",
    "m"
   ]
  },
  {
   "cell_type": "code",
   "execution_count": null,
   "id": "22b2d641",
   "metadata": {},
   "outputs": [],
   "source": [
    "m.to_html('folium.html')"
   ]
  },
  {
   "cell_type": "markdown",
   "id": "f5f025d4",
   "metadata": {},
   "source": [
    "### Bokeh"
   ]
  },
  {
   "cell_type": "code",
   "execution_count": null,
   "id": "9c88527e",
   "metadata": {},
   "outputs": [],
   "source": [
    "import leafmap.bokehmap as leafmap"
   ]
  },
  {
   "cell_type": "code",
   "execution_count": null,
   "id": "5882050f",
   "metadata": {},
   "outputs": [],
   "source": [
    "m = leafmap.Map(center=[40, -100], zoom=4, height=400)\n",
    "m"
   ]
  },
  {
   "cell_type": "markdown",
   "id": "0a87a41a",
   "metadata": {},
   "source": [
    "### Plotly"
   ]
  },
  {
   "cell_type": "code",
   "execution_count": null,
   "id": "2d5eee54",
   "metadata": {},
   "outputs": [],
   "source": [
    "import leafmap.plotlymap as leafmap"
   ]
  },
  {
   "cell_type": "code",
   "execution_count": null,
   "id": "afd1eeda",
   "metadata": {},
   "outputs": [],
   "source": [
    "m = leafmap.Map(center=[20, 0], zoom=1, height=400)\n",
    "m"
   ]
  },
  {
   "cell_type": "code",
   "execution_count": null,
   "id": "632d614d",
   "metadata": {},
   "outputs": [],
   "source": [
    "# leafmap.fix_widget_error()"
   ]
  },
  {
   "cell_type": "markdown",
   "id": "4f9ce6bd",
   "metadata": {},
   "source": [
    "### Pydeck"
   ]
  },
  {
   "cell_type": "code",
   "execution_count": null,
   "id": "a85db74c",
   "metadata": {},
   "outputs": [],
   "source": [
    "import leafmap.deck as leafmap"
   ]
  },
  {
   "cell_type": "code",
   "execution_count": null,
   "id": "8fbce210",
   "metadata": {},
   "outputs": [],
   "source": [
    "m = leafmap.Map(center=[20, 0], zoom=1)\n",
    "m"
   ]
  },
  {
   "cell_type": "markdown",
   "id": "49f88c40",
   "metadata": {},
   "source": [
    "### KeplerGL"
   ]
  },
  {
   "cell_type": "code",
   "execution_count": null,
   "id": "dbb6a937",
   "metadata": {},
   "outputs": [],
   "source": [
    "import leafmap.kepler as leafmap"
   ]
  },
  {
   "cell_type": "code",
   "execution_count": null,
   "id": "2cb0a16b",
   "metadata": {},
   "outputs": [],
   "source": [
    "m = leafmap.Map(center=[20, 0], zoom=1)\n",
    "m"
   ]
  },
  {
   "cell_type": "markdown",
   "id": "297b93db",
   "metadata": {},
   "source": [
    "## Adding basemaps\n",
    "\n",
    "### Built-in basemaps"
   ]
  },
  {
   "cell_type": "code",
   "execution_count": null,
   "id": "3c6faeb9",
   "metadata": {},
   "outputs": [],
   "source": [
    "import leafmap"
   ]
  },
  {
   "cell_type": "code",
   "execution_count": null,
   "id": "850d5bc2",
   "metadata": {},
   "outputs": [],
   "source": [
    "m = leafmap.Map(basemap='OpenTopoMap')\n",
    "m"
   ]
  },
  {
   "cell_type": "code",
   "execution_count": null,
   "id": "c71fc4e6",
   "metadata": {},
   "outputs": [],
   "source": [
    "m.add_basemap('Stamen.Terrain')"
   ]
  },
  {
   "cell_type": "code",
   "execution_count": null,
   "id": "b05400a6",
   "metadata": {},
   "outputs": [],
   "source": [
    "for basemap in leafmap.basemaps.keys():\n",
    "    print(basemap)"
   ]
  },
  {
   "cell_type": "code",
   "execution_count": null,
   "id": "e5e5a837",
   "metadata": {},
   "outputs": [],
   "source": [
    "len(leafmap.basemaps)"
   ]
  },
  {
   "cell_type": "markdown",
   "id": "55f99a06",
   "metadata": {},
   "source": [
    "### XYZ tiles"
   ]
  },
  {
   "cell_type": "code",
   "execution_count": null,
   "id": "c13f42f8",
   "metadata": {},
   "outputs": [],
   "source": [
    "m = leafmap.Map(center=[40, -100], zoom=4)\n",
    "m.add_tile_layer(\n",
    "    url=\"https://a.tile.openstreetmap.fr/hot/{z}/{x}/{y}.png\",\n",
    "    name=\"OpenStreetMap.HOT\",\n",
    "    attribution=\"OpenStreetMap\",\n",
    ")\n",
    "m"
   ]
  },
  {
   "cell_type": "markdown",
   "id": "a0a84fe3",
   "metadata": {},
   "source": [
    "### WMS tiles"
   ]
  },
  {
   "cell_type": "code",
   "execution_count": null,
   "id": "0848025c",
   "metadata": {},
   "outputs": [],
   "source": [
    "m = leafmap.Map(center=[40, -100], zoom=4, height='500px')\n",
    "url = 'https://imagery.nationalmap.gov/arcgis/services/USGSNAIPPlus/ImageServer/WMSServer?'\n",
    "m.add_wms_layer(\n",
    "    url=url,\n",
    "    layers='USGSNAIPPlus:NaturalColor',\n",
    "    name='NAIP',\n",
    "    format='image/png',\n",
    "    attribution='USGS',\n",
    "    transparent=True,\n",
    ")\n",
    "m"
   ]
  },
  {
   "cell_type": "markdown",
   "id": "ff87b29a",
   "metadata": {},
   "source": [
    "### Basemap selector\n",
    "\n",
    "## Summary"
   ]
  }
 ],
 "metadata": {
  "jupytext": {
   "text_representation": {
    "extension": ".md",
    "format_name": "myst",
    "format_version": 0.13,
    "jupytext_version": "1.14.5"
   }
  },
  "kernelspec": {
   "display_name": "Python 3",
   "language": "python",
   "name": "python3"
  },
  "source_map": [
   12,
   74,
   77,
   95,
   100,
   104,
   108,
   113,
   121,
   126,
   134,
   139,
   149,
   153,
   158,
   163,
   168,
   170,
   174,
   178,
   183,
   185,
   189,
   193,
   196,
   200,
   204,
   209,
   211,
   215,
   219,
   222,
   226,
   230,
   233,
   239,
   243,
   248,
   252,
   257,
   259,
   263,
   271,
   275,
   287
  ]
 },
 "nbformat": 4,
 "nbformat_minor": 5
}