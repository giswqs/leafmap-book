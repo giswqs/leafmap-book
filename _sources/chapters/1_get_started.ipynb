{
 "cells": [
  {
   "cell_type": "markdown",
   "id": "b06c3c95",
   "metadata": {},
   "source": [
    "# Getting Started with Leafmap\n",
    "\n",
    "## Introduction\n",
    "\n",
    "Welcome to the world of geospatial data science! In this chapter, we will introduce the [leafmap](https://leafmap.org) Python package for interactive visualization and analysis of geospatial data. We will demonstrate how to use it to create interactive maps using different mapping backends and change basemaps interactively. We will also show you how to use leafmap with various cloud-computing platforms, including Google Colab, Amazon SageMaker Studio Lab, and Microsoft Planetary Computer.\n",
    "\n",
    "## Geospatial data science\n",
    "\n",
    "## Introducing leafmap\n",
    "\n",
    "## Key features\n",
    "\n",
    "## Installation\n",
    "\n",
    "### Installing with conda\n",
    "\n",
    "```bash\n",
    "conda create -n geo python\n",
    "conda activate geo\n",
    "conda install -c conda-forge mamba\n",
    "mamba install -c conda-forge leafmap\n",
    "```\n",
    "\n",
    "```bash\n",
    "mamba install -c conda-forge pygis\n",
    "```\n",
    "\n",
    "### Installing with pip\n",
    "\n",
    "```bash\n",
    "pip install leafmap\n",
    "```\n",
    "\n",
    "### Installing from source\n",
    "\n",
    "```bash\n",
    "git clone https://github.com/opengeos/leafmap\n",
    "cd leafmap\n",
    "pip install .\n",
    "```\n",
    "\n",
    "```bash\n",
    "pip install git+https://github.com/opengeos/leafmap\n",
    "```\n",
    "\n",
    "### Upgrading leafmap\n",
    "\n",
    "```bash\n",
    "pip install -U leafmap\n",
    "```\n",
    "\n",
    "```bash\n",
    "conda update -c conda-forge leafmap\n",
    "```"
   ]
  },
  {
   "cell_type": "code",
   "execution_count": null,
   "id": "f706cad0",
   "metadata": {},
   "outputs": [],
   "source": [
    "import leafmap\n",
    "leafmap.update_package()"
   ]
  },
  {
   "cell_type": "markdown",
   "id": "899aecc0",
   "metadata": {},
   "source": [
    "### Using Docker\n",
    "\n",
    "```bash\n",
    "docker run -it -p 8888:8888 giswqs/leafmap:latest\n",
    "```\n",
    "\n",
    "## JupyterLab\n",
    "\n",
    "```bash\n",
    "conda activate geo\n",
    "```\n",
    "\n",
    "```bash\n",
    "jupyter lab\n",
    "```"
   ]
  },
  {
   "cell_type": "code",
   "execution_count": null,
   "id": "34747c08",
   "metadata": {},
   "outputs": [],
   "source": [
    "import leafmap\n",
    "\n",
    "m = leafmap.Map()\n",
    "m"
   ]
  },
  {
   "cell_type": "markdown",
   "id": "632b087b",
   "metadata": {},
   "source": [
    "## Google Colab"
   ]
  },
  {
   "cell_type": "code",
   "execution_count": null,
   "id": "4faeccb8",
   "metadata": {},
   "outputs": [],
   "source": [
    "%pip install leafmap"
   ]
  },
  {
   "cell_type": "code",
   "execution_count": null,
   "id": "9c306c95",
   "metadata": {},
   "outputs": [],
   "source": [
    "import leafmap\n",
    "\n",
    "m = leafmap.Map()\n",
    "m"
   ]
  },
  {
   "cell_type": "markdown",
   "id": "1a2bd7a8",
   "metadata": {},
   "source": [
    "## Amazon SageMaker Studio Lab\n",
    "\n",
    "```bash\n",
    "!conda install -c conda-forge leafmap -y\n",
    "```"
   ]
  },
  {
   "cell_type": "code",
   "execution_count": null,
   "id": "9311b744",
   "metadata": {},
   "outputs": [],
   "source": [
    "import leafmap\n",
    "\n",
    "m = leafmap.Map()\n",
    "m"
   ]
  },
  {
   "cell_type": "markdown",
   "id": "b78b2434",
   "metadata": {},
   "source": [
    "## Microsoft Planetary Computer\n",
    "\n",
    "```bash\n",
    "!mamba update -c conda-forge leafmap -y\n",
    "```"
   ]
  },
  {
   "cell_type": "code",
   "execution_count": null,
   "id": "83d3409b",
   "metadata": {},
   "outputs": [],
   "source": [
    "import leafmap\n",
    "\n",
    "m = leafmap.Map()\n",
    "m"
   ]
  },
  {
   "cell_type": "markdown",
   "id": "226334b0",
   "metadata": {},
   "source": [
    "## Mapping backends\n",
    "\n",
    "## Summary\n",
    "\n",
    "## References\n",
    "\n",
    "- https://leafmap.org/notebooks/01_leafmap_intro\n",
    "- https://leafmap.org/notebooks/02_using_basemaps\n",
    "- https://leafmap.org/notebooks/26_kepler_gl\n",
    "- https://leafmap.org/notebooks/65_sagemaker\n",
    "- https://leafmap.org/notebooks/26_kepler_gl\n",
    "- https://leafmap.org/notebooks/29_pydeck\n",
    "- https://leafmap.org/notebooks/58_bokeh"
   ]
  }
 ],
 "metadata": {
  "jupytext": {
   "text_representation": {
    "extension": ".md",
    "format_name": "myst",
    "format_version": 0.13,
    "jupytext_version": "1.11.5"
   }
  },
  "kernelspec": {
   "display_name": "Python 3",
   "language": "python",
   "name": "python3"
  },
  "source_map": [
   12,
   69,
   72,
   90,
   95,
   99,
   103,
   108,
   116,
   121,
   129,
   134
  ]
 },
 "nbformat": 4,
 "nbformat_minor": 5
}