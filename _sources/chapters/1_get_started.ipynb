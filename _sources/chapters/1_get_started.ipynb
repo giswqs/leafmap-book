{
 "cells": [
  {
   "cell_type": "markdown",
   "id": "53624b00",
   "metadata": {},
   "source": [
    "# Getting Started with Leafmap\n",
    "\n",
    "```{contents}\n",
    ":local:\n",
    ":depth: 2\n",
    "```\n",
    "\n",
    "## Introduction\n",
    "\n",
    "Welcome to the world of geospatial data science! In this chapter, we will introduce the [leafmap](https://leafmap.org) Python package for interactive visualization and analysis of geospatial data. We will demonstrate how to use it to create interactive maps using different mapping backends and change basemaps interactively. We will also show you how to use leafmap with various cloud-computing platforms, including Google Colab, Amazon SageMaker Studio Lab, and Microsoft Planetary Computer.\n",
    "\n",
    "## Geospatial data science\n",
    "\n",
    "## Introducing leafmap\n",
    "\n",
    "## Key features\n",
    "\n",
    "## Installation\n",
    "\n",
    "### Installing with conda\n",
    "\n",
    "```bash\n",
    "conda create -n geo python\n",
    "conda activate geo\n",
    "conda install -c conda-forge mamba\n",
    "mamba install -c conda-forge leafmap\n",
    "```\n",
    "\n",
    "```bash\n",
    "mamba install -c conda-forge pygis\n",
    "```\n",
    "\n",
    "### Installing with pip\n",
    "\n",
    "```bash\n",
    "pip install leafmap\n",
    "```\n",
    "\n",
    "### Installing from source\n",
    "\n",
    "```bash\n",
    "git clone https://github.com/opengeos/leafmap\n",
    "cd leafmap\n",
    "pip install .\n",
    "```\n",
    "\n",
    "```bash\n",
    "pip install git+https://github.com/opengeos/leafmap\n",
    "```\n",
    "\n",
    "### Upgrading leafmap\n",
    "\n",
    "```bash\n",
    "pip install -U leafmap\n",
    "```\n",
    "\n",
    "```bash\n",
    "conda update -c conda-forge leafmap\n",
    "```"
   ]
  },
  {
   "cell_type": "code",
   "execution_count": null,
   "id": "8002f30f",
   "metadata": {},
   "outputs": [],
   "source": [
    "import leafmap\n",
    "leafmap.update_package()"
   ]
  },
  {
   "cell_type": "markdown",
   "id": "eeee1cf5",
   "metadata": {},
   "source": [
    "### Using Docker\n",
    "\n",
    "```bash\n",
    "docker run -it -p 8888:8888 giswqs/leafmap:latest\n",
    "```\n",
    "\n",
    "## JupyterLab\n",
    "\n",
    "```bash\n",
    "conda activate geo\n",
    "```\n",
    "\n",
    "```bash\n",
    "jupyter lab\n",
    "```"
   ]
  },
  {
   "cell_type": "code",
   "execution_count": null,
   "id": "f5936340",
   "metadata": {},
   "outputs": [],
   "source": [
    "import leafmap\n",
    "\n",
    "m = leafmap.Map()\n",
    "m"
   ]
  },
  {
   "cell_type": "markdown",
   "id": "4e145967",
   "metadata": {},
   "source": [
    "## Google Colab"
   ]
  },
  {
   "cell_type": "code",
   "execution_count": null,
   "id": "a0836066",
   "metadata": {},
   "outputs": [],
   "source": [
    "%pip install leafmap"
   ]
  },
  {
   "cell_type": "code",
   "execution_count": null,
   "id": "bbcba2d6",
   "metadata": {},
   "outputs": [],
   "source": [
    "import leafmap\n",
    "\n",
    "m = leafmap.Map()\n",
    "m"
   ]
  },
  {
   "cell_type": "markdown",
   "id": "e5d2590f",
   "metadata": {},
   "source": [
    "## Amazon SageMaker Studio Lab\n",
    "\n",
    "```bash\n",
    "!conda install -c conda-forge leafmap -y\n",
    "```"
   ]
  },
  {
   "cell_type": "code",
   "execution_count": null,
   "id": "f6df2e28",
   "metadata": {},
   "outputs": [],
   "source": [
    "import leafmap\n",
    "\n",
    "m = leafmap.Map()\n",
    "m"
   ]
  },
  {
   "cell_type": "markdown",
   "id": "53345cfc",
   "metadata": {},
   "source": [
    "## Microsoft Planetary Computer\n",
    "\n",
    "```bash\n",
    "!mamba update -c conda-forge leafmap -y\n",
    "```"
   ]
  },
  {
   "cell_type": "code",
   "execution_count": null,
   "id": "55e05cfc",
   "metadata": {},
   "outputs": [],
   "source": [
    "import leafmap\n",
    "\n",
    "m = leafmap.Map()\n",
    "m"
   ]
  },
  {
   "cell_type": "markdown",
   "id": "e3928453",
   "metadata": {},
   "source": [
    "## Mapping backends\n",
    "\n",
    "```bash\n",
    "mamba install -c conda-forge pygis\n",
    "```\n",
    "\n",
    "### Ipyleaflet"
   ]
  },
  {
   "cell_type": "code",
   "execution_count": null,
   "id": "71808a88",
   "metadata": {},
   "outputs": [],
   "source": [
    "import leafmap"
   ]
  },
  {
   "cell_type": "code",
   "execution_count": null,
   "id": "a0d628a1",
   "metadata": {},
   "outputs": [],
   "source": [
    "m = leafmap.Map(center=[37.75, -122.43], zoom=12, height='550px')\n",
    "m"
   ]
  },
  {
   "cell_type": "code",
   "execution_count": null,
   "id": "54b5febb",
   "metadata": {},
   "outputs": [],
   "source": [
    "m = leafmap.Map(toolbar_control=False, draw_control=False)\n",
    "m"
   ]
  },
  {
   "cell_type": "code",
   "execution_count": null,
   "id": "8ca67659",
   "metadata": {},
   "outputs": [],
   "source": [
    "m.clear_controls()\n",
    "m"
   ]
  },
  {
   "cell_type": "code",
   "execution_count": null,
   "id": "dd570b70",
   "metadata": {},
   "outputs": [],
   "source": [
    "m.to_html(\"map.html\", title=\"My Map\", width=\"100%\", height=\"800px\")"
   ]
  },
  {
   "cell_type": "markdown",
   "id": "5ad8c861",
   "metadata": {},
   "source": [
    "### Folium"
   ]
  },
  {
   "cell_type": "code",
   "execution_count": null,
   "id": "5e0fe040",
   "metadata": {},
   "outputs": [],
   "source": [
    "import leafmap.foliumap as leafmap"
   ]
  },
  {
   "cell_type": "code",
   "execution_count": null,
   "id": "8fa071ab",
   "metadata": {},
   "outputs": [],
   "source": [
    "m = leafmap.Map(center=[37.75, -122.43], zoom=12, height='500px')\n",
    "m"
   ]
  },
  {
   "cell_type": "code",
   "execution_count": null,
   "id": "1687a7a7",
   "metadata": {},
   "outputs": [],
   "source": [
    "m.to_html('folium.html')"
   ]
  },
  {
   "cell_type": "markdown",
   "id": "3ddb4f33",
   "metadata": {},
   "source": [
    "### Bokeh"
   ]
  },
  {
   "cell_type": "code",
   "execution_count": null,
   "id": "5633f83e",
   "metadata": {},
   "outputs": [],
   "source": [
    "import leafmap.bokehmap as leafmap"
   ]
  },
  {
   "cell_type": "code",
   "execution_count": null,
   "id": "13ea41d4",
   "metadata": {},
   "outputs": [],
   "source": [
    "m = leafmap.Map(center=[40, -100], zoom=4, height=400)\n",
    "m"
   ]
  },
  {
   "cell_type": "markdown",
   "id": "e67d8ad9",
   "metadata": {},
   "source": [
    "### Plotly"
   ]
  },
  {
   "cell_type": "code",
   "execution_count": null,
   "id": "361e92f4",
   "metadata": {},
   "outputs": [],
   "source": [
    "import leafmap.plotlymap as leafmap"
   ]
  },
  {
   "cell_type": "code",
   "execution_count": null,
   "id": "82831f08",
   "metadata": {},
   "outputs": [],
   "source": [
    "m = leafmap.Map(center=[20, 0], zoom=1, height=400)\n",
    "m"
   ]
  },
  {
   "cell_type": "code",
   "execution_count": null,
   "id": "44e45ac8",
   "metadata": {},
   "outputs": [],
   "source": [
    "# leafmap.fix_widget_error()"
   ]
  },
  {
   "cell_type": "markdown",
   "id": "19d9f602",
   "metadata": {},
   "source": [
    "### Pydeck"
   ]
  },
  {
   "cell_type": "code",
   "execution_count": null,
   "id": "88078a9b",
   "metadata": {},
   "outputs": [],
   "source": [
    "import leafmap.deck as leafmap"
   ]
  },
  {
   "cell_type": "code",
   "execution_count": null,
   "id": "9194c633",
   "metadata": {},
   "outputs": [],
   "source": [
    "m = leafmap.Map(center=[20, 0], zoom=1)\n",
    "m"
   ]
  },
  {
   "cell_type": "markdown",
   "id": "881e0467",
   "metadata": {},
   "source": [
    "### KeplerGL"
   ]
  },
  {
   "cell_type": "code",
   "execution_count": null,
   "id": "c0bf3e1e",
   "metadata": {},
   "outputs": [],
   "source": [
    "import leafmap.kepler as leafmap"
   ]
  },
  {
   "cell_type": "code",
   "execution_count": null,
   "id": "0dbf0157",
   "metadata": {},
   "outputs": [],
   "source": [
    "m = leafmap.Map(center=[20, 0], zoom=1)\n",
    "m"
   ]
  },
  {
   "cell_type": "markdown",
   "id": "2570900e",
   "metadata": {},
   "source": [
    "## Adding basemaps\n",
    "\n",
    "### Built-in basemaps"
   ]
  },
  {
   "cell_type": "code",
   "execution_count": null,
   "id": "eb72f081",
   "metadata": {},
   "outputs": [],
   "source": [
    "import leafmap"
   ]
  },
  {
   "cell_type": "code",
   "execution_count": null,
   "id": "d4789fb4",
   "metadata": {},
   "outputs": [],
   "source": [
    "m = leafmap.Map(basemap='OpenTopoMap')\n",
    "m"
   ]
  },
  {
   "cell_type": "code",
   "execution_count": null,
   "id": "5a9d4619",
   "metadata": {},
   "outputs": [],
   "source": [
    "m.add_basemap('Stamen.Terrain')"
   ]
  },
  {
   "cell_type": "code",
   "execution_count": null,
   "id": "31755664",
   "metadata": {},
   "outputs": [],
   "source": [
    "for basemap in leafmap.basemaps.keys():\n",
    "    print(basemap)"
   ]
  },
  {
   "cell_type": "code",
   "execution_count": null,
   "id": "11e45141",
   "metadata": {},
   "outputs": [],
   "source": [
    "len(leafmap.basemaps)"
   ]
  },
  {
   "cell_type": "markdown",
   "id": "f0106001",
   "metadata": {},
   "source": [
    "### XYZ tiles"
   ]
  },
  {
   "cell_type": "code",
   "execution_count": null,
   "id": "cd5fe2bf",
   "metadata": {},
   "outputs": [],
   "source": [
    "m = leafmap.Map()\n",
    "m.add_tile_layer(\n",
    "    url=\"https://mt1.google.com/vt/lyrs=p&x={x}&y={y}&z={z}\",\n",
    "    name=\"Google Terrain\",\n",
    "    attribution=\"Google\",\n",
    ")\n",
    "m"
   ]
  },
  {
   "cell_type": "markdown",
   "id": "2fd34e0c",
   "metadata": {},
   "source": [
    "### WMS tiles"
   ]
  },
  {
   "cell_type": "code",
   "execution_count": null,
   "id": "be011612",
   "metadata": {},
   "outputs": [],
   "source": [
    "m = leafmap.Map(center=[40, -100], zoom=4)\n",
    "url = 'https://www.mrlc.gov/geoserver/mrlc_display/NLCD_2019_Land_Cover_L48/wms?'\n",
    "m.add_wms_layer(\n",
    "    url=url,\n",
    "    layers='NLCD_2019_Land_Cover_L48',\n",
    "    name='NLCD 2019',\n",
    "    format='image/png',\n",
    "    attribution='MRLC',\n",
    "    transparent=True,\n",
    ")\n",
    "m"
   ]
  },
  {
   "cell_type": "markdown",
   "id": "bf714fed",
   "metadata": {},
   "source": [
    "## Summary\n",
    "\n",
    "## References\n",
    "\n",
    "- https://leafmap.org/notebooks/01_leafmap_intro\n",
    "- https://leafmap.org/notebooks/02_using_basemaps\n",
    "- https://leafmap.org/notebooks/26_kepler_gl\n",
    "- https://leafmap.org/notebooks/65_sagemaker\n",
    "- https://leafmap.org/notebooks/26_kepler_gl\n",
    "- https://leafmap.org/notebooks/29_pydeck\n",
    "- https://leafmap.org/notebooks/58_bokeh"
   ]
  }
 ],
 "metadata": {
  "jupytext": {
   "text_representation": {
    "extension": ".md",
    "format_name": "myst",
    "format_version": 0.13,
    "jupytext_version": "1.14.5"
   }
  },
  "kernelspec": {
   "display_name": "Python 3",
   "language": "python",
   "name": "python3"
  },
  "source_map": [
   12,
   74,
   77,
   95,
   100,
   104,
   108,
   113,
   121,
   126,
   134,
   139,
   149,
   153,
   158,
   163,
   168,
   170,
   174,
   178,
   183,
   185,
   189,
   193,
   196,
   200,
   204,
   209,
   211,
   215,
   219,
   222,
   226,
   230,
   233,
   239,
   243,
   248,
   252,
   257,
   259,
   263,
   271,
   275,
   287
  ]
 },
 "nbformat": 4,
 "nbformat_minor": 5
}