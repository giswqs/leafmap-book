{
 "cells": [
  {
   "cell_type": "markdown",
   "id": "2142531e",
   "metadata": {},
   "source": [
    "# Getting Started with Leafmap\n",
    "\n",
    "```{contents}\n",
    ":local:\n",
    ":depth: 2\n",
    "```\n",
    "\n",
    "## Introduction\n",
    "\n",
    "Welcome to the world of geospatial data science! In this chapter, we will introduce the [leafmap](https://leafmap.org) Python package for interactive visualization and analysis of geospatial data. We will demonstrate how to use it to create interactive maps using different mapping backends and change basemaps interactively. We will also show you how to use leafmap with various cloud-computing platforms, including Google Colab, Amazon SageMaker Studio Lab, and Microsoft Planetary Computer.\n",
    "\n",
    "## Geospatial data science\n",
    "\n",
    "## Introducing leafmap\n",
    "\n",
    "## Key features\n",
    "\n",
    "## Installing leafmap\n",
    "\n",
    "### Installing with conda\n",
    "\n",
    "```bash\n",
    "conda create -n geo python\n",
    "conda activate geo\n",
    "conda install -c conda-forge mamba\n",
    "mamba install -c conda-forge leafmap\n",
    "```\n",
    "\n",
    "```bash\n",
    "mamba install -c conda-forge pygis\n",
    "```\n",
    "\n",
    "### Installing with pip\n",
    "\n",
    "```bash\n",
    "pip install leafmap\n",
    "```\n",
    "\n",
    "### Installing from source\n",
    "\n",
    "```bash\n",
    "git clone https://github.com/opengeos/leafmap\n",
    "cd leafmap\n",
    "pip install .\n",
    "```\n",
    "\n",
    "```bash\n",
    "pip install git+https://github.com/opengeos/leafmap\n",
    "```\n",
    "\n",
    "### Upgrading leafmap\n",
    "\n",
    "```bash\n",
    "pip install -U leafmap\n",
    "```\n",
    "\n",
    "```bash\n",
    "conda update -c conda-forge leafmap\n",
    "```"
   ]
  },
  {
   "cell_type": "code",
   "execution_count": null,
   "id": "d3546322",
   "metadata": {},
   "outputs": [],
   "source": [
    "import leafmap\n",
    "leafmap.update_package()"
   ]
  },
  {
   "cell_type": "markdown",
   "id": "1f4675b4",
   "metadata": {},
   "source": [
    "### Using Docker\n",
    "\n",
    "```bash\n",
    "docker run -it -p 8888:8888 giswqs/leafmap:latest\n",
    "```\n",
    "\n",
    "## JupyterLab\n",
    "\n",
    "```bash\n",
    "conda activate geo\n",
    "```\n",
    "\n",
    "```bash\n",
    "jupyter lab\n",
    "```"
   ]
  },
  {
   "cell_type": "code",
   "execution_count": null,
   "id": "9655a7f8",
   "metadata": {},
   "outputs": [],
   "source": [
    "import leafmap\n",
    "\n",
    "m = leafmap.Map()\n",
    "m"
   ]
  },
  {
   "cell_type": "markdown",
   "id": "4e3b05f5",
   "metadata": {},
   "source": [
    "## Google Colab"
   ]
  },
  {
   "cell_type": "code",
   "execution_count": null,
   "id": "13ca9fd3",
   "metadata": {},
   "outputs": [],
   "source": [
    "%pip install leafmap"
   ]
  },
  {
   "cell_type": "code",
   "execution_count": null,
   "id": "80d147ca",
   "metadata": {},
   "outputs": [],
   "source": [
    "import leafmap\n",
    "\n",
    "m = leafmap.Map()\n",
    "m"
   ]
  },
  {
   "cell_type": "markdown",
   "id": "2889f882",
   "metadata": {},
   "source": [
    "## Amazon SageMaker Studio Lab\n",
    "\n",
    "```bash\n",
    "!conda install -c conda-forge leafmap -y\n",
    "```"
   ]
  },
  {
   "cell_type": "code",
   "execution_count": null,
   "id": "72122a55",
   "metadata": {},
   "outputs": [],
   "source": [
    "import leafmap\n",
    "\n",
    "m = leafmap.Map()\n",
    "m"
   ]
  },
  {
   "cell_type": "markdown",
   "id": "5bc46620",
   "metadata": {},
   "source": [
    "## Microsoft Planetary Computer\n",
    "\n",
    "```bash\n",
    "!mamba update -c conda-forge leafmap -y\n",
    "```"
   ]
  },
  {
   "cell_type": "code",
   "execution_count": null,
   "id": "5de861a5",
   "metadata": {},
   "outputs": [],
   "source": [
    "import leafmap\n",
    "\n",
    "m = leafmap.Map()\n",
    "m"
   ]
  },
  {
   "cell_type": "markdown",
   "id": "fafc7fd6",
   "metadata": {},
   "source": [
    "## Mapping backends\n",
    "\n",
    "```bash\n",
    "mamba install -c conda-forge pygis\n",
    "```\n",
    "\n",
    "### Ipyleaflet"
   ]
  },
  {
   "cell_type": "code",
   "execution_count": null,
   "id": "de81e6d3",
   "metadata": {},
   "outputs": [],
   "source": [
    "import leafmap"
   ]
  },
  {
   "cell_type": "code",
   "execution_count": null,
   "id": "e655b70e",
   "metadata": {},
   "outputs": [],
   "source": [
    "m = leafmap.Map(center=[37.75, -122.43], zoom=12, height='550px')\n",
    "m"
   ]
  },
  {
   "cell_type": "code",
   "execution_count": null,
   "id": "a3cba133",
   "metadata": {},
   "outputs": [],
   "source": [
    "m = leafmap.Map(toolbar_control=False, draw_control=False)\n",
    "m"
   ]
  },
  {
   "cell_type": "code",
   "execution_count": null,
   "id": "fd39d7bd",
   "metadata": {},
   "outputs": [],
   "source": [
    "m.clear_controls()\n",
    "m"
   ]
  },
  {
   "cell_type": "code",
   "execution_count": null,
   "id": "6b8bb7cc",
   "metadata": {},
   "outputs": [],
   "source": [
    "m.to_html(\"map.html\", title=\"My Map\", width=\"100%\", height=\"800px\")"
   ]
  },
  {
   "cell_type": "markdown",
   "id": "77e2dd13",
   "metadata": {},
   "source": [
    "### Folium"
   ]
  },
  {
   "cell_type": "code",
   "execution_count": null,
   "id": "5c0e7834",
   "metadata": {},
   "outputs": [],
   "source": [
    "import leafmap.foliumap as leafmap"
   ]
  },
  {
   "cell_type": "code",
   "execution_count": null,
   "id": "42b26821",
   "metadata": {},
   "outputs": [],
   "source": [
    "m = leafmap.Map(center=[37.75, -122.43], zoom=12, height='500px')\n",
    "m"
   ]
  },
  {
   "cell_type": "code",
   "execution_count": null,
   "id": "f048ad9c",
   "metadata": {},
   "outputs": [],
   "source": [
    "m.to_html('folium.html')"
   ]
  },
  {
   "cell_type": "markdown",
   "id": "2a8cd84a",
   "metadata": {},
   "source": [
    "### Bokeh"
   ]
  },
  {
   "cell_type": "code",
   "execution_count": null,
   "id": "09d3dadd",
   "metadata": {},
   "outputs": [],
   "source": [
    "import leafmap.bokehmap as leafmap"
   ]
  },
  {
   "cell_type": "code",
   "execution_count": null,
   "id": "7a503e8f",
   "metadata": {},
   "outputs": [],
   "source": [
    "m = leafmap.Map(center=[40, -100], zoom=4, height=400)\n",
    "m"
   ]
  },
  {
   "cell_type": "markdown",
   "id": "d753d760",
   "metadata": {},
   "source": [
    "### Plotly"
   ]
  },
  {
   "cell_type": "code",
   "execution_count": null,
   "id": "4263815f",
   "metadata": {},
   "outputs": [],
   "source": [
    "import leafmap.plotlymap as leafmap"
   ]
  },
  {
   "cell_type": "code",
   "execution_count": null,
   "id": "46cf800d",
   "metadata": {},
   "outputs": [],
   "source": [
    "m = leafmap.Map(center=[20, 0], zoom=1, height=400)\n",
    "m"
   ]
  },
  {
   "cell_type": "code",
   "execution_count": null,
   "id": "51b6b323",
   "metadata": {},
   "outputs": [],
   "source": [
    "# leafmap.fix_widget_error()"
   ]
  },
  {
   "cell_type": "markdown",
   "id": "94a81122",
   "metadata": {},
   "source": [
    "### Pydeck"
   ]
  },
  {
   "cell_type": "code",
   "execution_count": null,
   "id": "69368ed9",
   "metadata": {},
   "outputs": [],
   "source": [
    "import leafmap.deck as leafmap"
   ]
  },
  {
   "cell_type": "code",
   "execution_count": null,
   "id": "6d7adc91",
   "metadata": {},
   "outputs": [],
   "source": [
    "m = leafmap.Map(center=[20, 0], zoom=1)\n",
    "m"
   ]
  },
  {
   "cell_type": "markdown",
   "id": "cc15dab8",
   "metadata": {},
   "source": [
    "### KeplerGL"
   ]
  },
  {
   "cell_type": "code",
   "execution_count": null,
   "id": "779ef769",
   "metadata": {},
   "outputs": [],
   "source": [
    "import leafmap.kepler as leafmap"
   ]
  },
  {
   "cell_type": "code",
   "execution_count": null,
   "id": "b47d5821",
   "metadata": {},
   "outputs": [],
   "source": [
    "m = leafmap.Map(center=[20, 0], zoom=1)\n",
    "m"
   ]
  },
  {
   "cell_type": "markdown",
   "id": "a98870c6",
   "metadata": {},
   "source": [
    "## Adding basemaps\n",
    "\n",
    "### Built-in basemaps"
   ]
  },
  {
   "cell_type": "code",
   "execution_count": null,
   "id": "793c6235",
   "metadata": {},
   "outputs": [],
   "source": [
    "import leafmap"
   ]
  },
  {
   "cell_type": "code",
   "execution_count": null,
   "id": "114b3717",
   "metadata": {},
   "outputs": [],
   "source": [
    "m = leafmap.Map(basemap='OpenTopoMap')\n",
    "m"
   ]
  },
  {
   "cell_type": "code",
   "execution_count": null,
   "id": "43ba6f6a",
   "metadata": {},
   "outputs": [],
   "source": [
    "m.add_basemap('Stamen.Terrain')"
   ]
  },
  {
   "cell_type": "code",
   "execution_count": null,
   "id": "1c4cceae",
   "metadata": {},
   "outputs": [],
   "source": [
    "for basemap in leafmap.basemaps.keys():\n",
    "    print(basemap)"
   ]
  },
  {
   "cell_type": "code",
   "execution_count": null,
   "id": "0f15fd40",
   "metadata": {},
   "outputs": [],
   "source": [
    "len(leafmap.basemaps)"
   ]
  },
  {
   "cell_type": "markdown",
   "id": "1dd5747f",
   "metadata": {},
   "source": [
    "### XYZ tiles"
   ]
  },
  {
   "cell_type": "code",
   "execution_count": null,
   "id": "112c4a97",
   "metadata": {},
   "outputs": [],
   "source": [
    "m = leafmap.Map(center=[40, -100], zoom=4)\n",
    "m.add_tile_layer(\n",
    "    url=\"https://a.tile.openstreetmap.fr/hot/{z}/{x}/{y}.png\",\n",
    "    name=\"OpenStreetMap.HOT\",\n",
    "    attribution=\"OpenStreetMap\",\n",
    ")\n",
    "m"
   ]
  },
  {
   "cell_type": "markdown",
   "id": "3392a046",
   "metadata": {},
   "source": [
    "### WMS tiles"
   ]
  },
  {
   "cell_type": "code",
   "execution_count": null,
   "id": "35e8bddb",
   "metadata": {},
   "outputs": [],
   "source": [
    "m = leafmap.Map(center=[40, -100], zoom=4, height='500px')\n",
    "url = 'https://imagery.nationalmap.gov/arcgis/services/USGSNAIPPlus/ImageServer/WMSServer?'\n",
    "m.add_wms_layer(\n",
    "    url=url,\n",
    "    layers='USGSNAIPPlus:NaturalColor',\n",
    "    name='NAIP',\n",
    "    format='image/png',\n",
    "    attribution='USGS',\n",
    "    transparent=True,\n",
    ")\n",
    "m"
   ]
  },
  {
   "cell_type": "markdown",
   "id": "f0c3c166",
   "metadata": {},
   "source": [
    "### Basemap selector\n",
    "\n",
    "## Summary"
   ]
  }
 ],
 "metadata": {
  "jupytext": {
   "text_representation": {
    "extension": ".md",
    "format_name": "myst",
    "format_version": 0.13,
    "jupytext_version": "1.14.5"
   }
  },
  "kernelspec": {
   "display_name": "Python 3",
   "language": "python",
   "name": "python3"
  },
  "source_map": [
   12,
   74,
   77,
   95,
   100,
   104,
   108,
   113,
   121,
   126,
   134,
   139,
   149,
   153,
   158,
   163,
   168,
   170,
   174,
   178,
   183,
   185,
   189,
   193,
   196,
   200,
   204,
   209,
   211,
   215,
   219,
   222,
   226,
   230,
   233,
   239,
   243,
   248,
   252,
   257,
   259,
   263,
   271,
   275,
   287
  ]
 },
 "nbformat": 4,
 "nbformat_minor": 5
}