{
 "cells": [
  {
   "cell_type": "markdown",
   "id": "f8c1d82f",
   "metadata": {},
   "source": [
    "# Time Series Visualization\n",
    "\n",
    "```{contents}\n",
    ":local:\n",
    ":depth: 2\n",
    "```\n",
    "\n",
    "## Introduction\n",
    "\n",
    "## Planet imagery\n",
    "\n",
    "## Time series inspector\n",
    "\n",
    "## Time slider\n",
    "\n",
    "## Timelapse animations\n",
    "\n",
    "## Summary\n",
    "\n",
    "## References\n",
    "\n",
    "- https://leafmap.org/notebooks/20_planet_imagery\n",
    "- https://leafmap.org/notebooks/21_ts_inspector/\n",
    "- https://leafmap.org/notebooks/22_time_slider\n",
    "- https://leafmap.org/notebooks/20_planet_imagery\n",
    "- https://leafmap.org/notebooks/61_vector_to_gif\n",
    "- https://leafmap.org/notebooks/72_timelapse"
   ]
  }
 ],
 "metadata": {
  "jupytext": {
   "text_representation": {
    "extension": ".md",
    "format_name": "myst",
    "format_version": 0.13,
    "jupytext_version": "1.11.5"
   }
  },
  "kernelspec": {
   "display_name": "Python 3",
   "language": "python",
   "name": "python3"
  },
  "source_map": [
   12
  ]
 },
 "nbformat": 4,
 "nbformat_minor": 5
}