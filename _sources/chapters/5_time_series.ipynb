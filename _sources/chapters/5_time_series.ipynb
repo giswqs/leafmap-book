{
 "cells": [
  {
   "cell_type": "markdown",
   "id": "293253ee",
   "metadata": {},
   "source": [
    "# Time Series Visualization\n",
    "\n",
    "## Introduction\n",
    "\n",
    "## Summary\n",
    "\n",
    "## References\n",
    "\n",
    "- https://leafmap.org/notebooks/20_planet_imagery\n",
    "- https://leafmap.org/notebooks/21_ts_inspector/\n",
    "- https://leafmap.org/notebooks/22_time_slider\n",
    "- https://leafmap.org/notebooks/20_planet_imagery\n",
    "- https://leafmap.org/notebooks/61_vector_to_gif\n",
    "- https://leafmap.org/notebooks/72_timelapse"
   ]
  }
 ],
 "metadata": {
  "jupytext": {
   "text_representation": {
    "extension": ".md",
    "format_name": "myst",
    "format_version": 0.13,
    "jupytext_version": "1.11.5"
   }
  },
  "kernelspec": {
   "display_name": "Python 3",
   "language": "python",
   "name": "python3"
  },
  "source_map": [
   12
  ]
 },
 "nbformat": 4,
 "nbformat_minor": 5
}