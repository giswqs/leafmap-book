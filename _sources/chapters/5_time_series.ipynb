{
 "cells": [
  {
   "cell_type": "markdown",
   "id": "0dfe4b84",
   "metadata": {},
   "source": [
    "# Time Series Visualization\n",
    "\n",
    "```{contents}\n",
    ":local:\n",
    ":depth: 2\n",
    "```\n",
    "\n",
    "## Introduction\n",
    "\n",
    "## Technical requirements\n",
    "\n",
    "To follow along with this chapter, you will need to have leafmap and several optional dependencies installed. If you have already followed {numref}`ch1:install` - _Installing leafmap_, then you should already have a conda environment with all the necessary packages installed. Otherwise, you can create a new conda environment and install [pygis](https://pygis.gishub.org) with the following commands, which will automatically install leafmap and all the required dependencies:\n",
    "\n",
    "```bash\n",
    "conda create -n geo python\n",
    "conda activate geo\n",
    "conda install -c conda-forge mamba\n",
    "mamba install -c conda-forge pygis\n",
    "```\n",
    "\n",
    "Next, launch JupyterLab by typing the following commands in your terminal or Anaconda prompt:\n",
    "\n",
    "```bash\n",
    "jupyter lab\n",
    "```\n",
    "\n",
    "Alternatively, you can use leafmap in a cloud environment without installing anything on your local computer. Click on one of the following links to launch a cloud-based JupyterLab server:\n",
    "\n",
    "- [Open 5_time_series.ipynb in Google Colab](https://colab.research.google.com/github/giswqs/leafmap-book/blob/master/chapters/5_time_series.ipynb)\n",
    "- [Open 5_time_series.ipynb in Amazon SageMaker Studio Lab](https://studiolab.sagemaker.aws/import/github/giswqs/leafmap-book/blob/master/chapters/5_time_series.ipynb)\n",
    "- [Open 5_time_series.ipynb in Microsoft Planetary Computer](https://pccompute.westeurope.cloudapp.azure.com/compute/hub/user-redirect/git-pull?repo=https://github.com/giswqs/leafmap-book&urlpath=lab/tree/leafmap-book/chapters/5_time_series.ipynb&branch=master)\n",
    "\n",
    "Once in the selected cloud environment, you can uncomment the following line and run the cell to install pygis, which includes leafmap and all the necessary dependencies:"
   ]
  },
  {
   "cell_type": "code",
   "execution_count": null,
   "id": "a04b7d3f",
   "metadata": {},
   "outputs": [],
   "source": [
    "# %pip install pygis"
   ]
  },
  {
   "cell_type": "markdown",
   "id": "ecb64208",
   "metadata": {},
   "source": [
    "The installation process may take 2-3 minutes. Once pygis has been installed successfully, restart the kernel to enable the newly installed packages.\n",
    "\n",
    "To begin, import the necessary libraries that will be used in this chapter:"
   ]
  },
  {
   "cell_type": "code",
   "execution_count": null,
   "id": "40f28f31",
   "metadata": {},
   "outputs": [],
   "source": [
    "import leafmap"
   ]
  },
  {
   "cell_type": "markdown",
   "id": "98c46b05",
   "metadata": {},
   "source": [
    "## Planet imagery\n",
    "\n",
    "## Time series inspector\n",
    "\n",
    "## Time slider\n",
    "\n",
    "## Timelapse animations\n",
    "\n",
    "## Summary\n",
    "\n",
    "## References\n",
    "\n",
    "- https://leafmap.org/notebooks/20_planet_imagery\n",
    "- https://leafmap.org/notebooks/21_ts_inspector/\n",
    "- https://leafmap.org/notebooks/22_time_slider\n",
    "- https://leafmap.org/notebooks/20_planet_imagery\n",
    "- https://leafmap.org/notebooks/61_vector_to_gif\n",
    "- https://leafmap.org/notebooks/72_timelapse"
   ]
  }
 ],
 "metadata": {
  "jupytext": {
   "text_representation": {
    "extension": ".md",
    "format_name": "myst",
    "format_version": 0.13,
    "jupytext_version": "1.11.5"
   }
  },
  "kernelspec": {
   "display_name": "Python 3",
   "language": "python",
   "name": "python3"
  },
  "source_map": [
   12,
   48,
   50,
   56,
   58
  ]
 },
 "nbformat": 4,
 "nbformat_minor": 5
}