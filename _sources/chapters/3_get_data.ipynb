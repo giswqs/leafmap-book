{
 "cells": [
  {
   "cell_type": "markdown",
   "id": "ddf4adba",
   "metadata": {},
   "source": [
    "# Getting Geospatial Data\n",
    "\n",
    "```{contents}\n",
    ":local:\n",
    ":depth: 2\n",
    "```\n",
    "\n",
    "## Introduction\n",
    "\n",
    "## Summary\n",
    "\n",
    "## References\n",
    "\n",
    "- https://leafmap.org/notebooks/15_openstreetmap\n",
    "- https://leafmap.org/notebooks/17_vector_tile_layer\n",
    "- https://leafmap.org/notebooks/18_point_layer\n",
    "- https://leafmap.org/notebooks/30_census_data\n",
    "- https://leafmap.org/notebooks/31_search_basemaps\n",
    "- https://leafmap.org/notebooks/37_planetary_computer\n",
    "- https://leafmap.org/notebooks/42_create_cog\n",
    "- https://leafmap.org/notebooks/45_create_vector\n",
    "- https://leafmap.org/notebooks/46_edit_vector\n",
    "- https://leafmap.org/notebooks/47_numpy_to_cog\n",
    "- https://leafmap.org/notebooks/56_download_ned\n",
    "- https://leafmap.org/notebooks/57_national_map\n",
    "- https://leafmap.org/notebooks/64_stac_search\n",
    "- https://leafmap.org/notebooks/68_openaerialmap\n",
    "- https://leafmap.org/notebooks/69_turkey_earthquake\n",
    "- https://leafmap.org/notebooks/71_aws_s3\n",
    "- https://leafmap.org/notebooks/73_custom_stac\n",
    "- https://leafmap.org/notebooks/74_tms_to_geotiff\n",
    "- https://leafmap.org/notebooks/78_read_raster"
   ]
  }
 ],
 "metadata": {
  "jupytext": {
   "text_representation": {
    "extension": ".md",
    "format_name": "myst",
    "format_version": 0.13,
    "jupytext_version": "1.11.5"
   }
  },
  "kernelspec": {
   "display_name": "Python 3",
   "language": "python",
   "name": "python3"
  },
  "source_map": [
   12
  ]
 },
 "nbformat": 4,
 "nbformat_minor": 5
}