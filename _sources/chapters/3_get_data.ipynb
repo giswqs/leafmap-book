{
 "cells": [
  {
   "cell_type": "markdown",
   "id": "b1826a9a",
   "metadata": {},
   "source": [
    "# Getting Geospatial Data\n",
    "\n",
    "```{contents}\n",
    ":local:\n",
    ":depth: 2\n",
    "```\n",
    "\n",
    "## Introduction\n",
    "\n",
    "## Technical requirements\n",
    "\n",
    "To follow along with this chapter, you will need to have leafmap and several optional dependencies installed. If you have already followed {numref}`ch1:install` - _Installing leafmap_, then you should already have a conda environment with all the necessary packages installed. Otherwise, you can create a new conda environment and install [pygis](https://pygis.gishub.org) with the following commands, which will automatically install leafmap and all the required dependencies:\n",
    "\n",
    "```bash\n",
    "conda create -n geo python\n",
    "conda activate geo\n",
    "conda install -c conda-forge mamba\n",
    "mamba install -c conda-forge pygis\n",
    "```\n",
    "\n",
    "Next, launch JupyterLab by typing the following commands in your terminal or Anaconda prompt:\n",
    "\n",
    "```bash\n",
    "jupyter lab\n",
    "```\n",
    "\n",
    "Alternatively, you can use leafmap in a cloud environment without installing anything on your local computer. Click on one of the following links to launch a cloud-based JupyterLab server:\n",
    "\n",
    "- [Open 3_get_data.ipynb in Google Colab](https://colab.research.google.com/github/giswqs/leafmap-book/blob/master/chapters/3_get_data.ipynb)\n",
    "- [Open 3_get_data.ipynb in Amazon SageMaker Studio Lab](https://studiolab.sagemaker.aws/import/github/giswqs/leafmap-book/blob/master/chapters/3_get_data.ipynb)\n",
    "- [Open 3_get_data.ipynb in Microsoft Planetary Computer](https://pccompute.westeurope.cloudapp.azure.com/compute/hub/user-redirect/git-pull?repo=https://github.com/giswqs/leafmap-book&urlpath=lab/tree/leafmap-book/chapters/3_get_data.ipynb&branch=master)\n",
    "\n",
    "Once in the selected cloud environment, you can uncomment the following line and run the cell to install pygis, which includes leafmap and all the necessary dependencies:"
   ]
  },
  {
   "cell_type": "code",
   "execution_count": null,
   "id": "8d98f64b",
   "metadata": {},
   "outputs": [],
   "source": [
    "# %pip install pygis"
   ]
  },
  {
   "cell_type": "markdown",
   "id": "3787e3f1",
   "metadata": {},
   "source": [
    "The installation process may take 2-3 minutes. Once pygis has been installed successfully, restart the kernel to enable the newly installed packages.\n",
    "\n",
    "To begin, import the necessary libraries that will be used in this chapter:"
   ]
  },
  {
   "cell_type": "code",
   "execution_count": null,
   "id": "da00bd87",
   "metadata": {},
   "outputs": [],
   "source": [
    "import leafmap"
   ]
  },
  {
   "cell_type": "markdown",
   "id": "12c31b18",
   "metadata": {},
   "source": [
    "## Basemaps\n",
    "\n",
    "## Census data\n",
    "\n",
    "## The National Map\n",
    "\n",
    "## OpenStreetMap\n",
    "\n",
    "## OpenAerialMap\n",
    "\n",
    "## Creating vector data\n",
    "\n",
    "## Editing vector data\n",
    "\n",
    "## Creating raster data\n",
    "\n",
    "### From GeoTIFF\n",
    "\n",
    "### From NumPy array\n",
    "\n",
    "## Planetary Computer\n",
    "\n",
    "## AWS Open Data\n",
    "\n",
    "## Custom STAC catalog\n",
    "\n",
    "## Summary\n",
    "\n",
    "## References\n",
    "\n",
    "- https://leafmap.org/notebooks/15_openstreetmap\n",
    "- https://leafmap.org/notebooks/18_point_layer\n",
    "- https://leafmap.org/notebooks/30_census_data\n",
    "- https://leafmap.org/notebooks/31_search_basemaps\n",
    "- https://leafmap.org/notebooks/37_planetary_computer\n",
    "- https://leafmap.org/notebooks/42_create_cog\n",
    "- https://leafmap.org/notebooks/45_create_vector\n",
    "- https://leafmap.org/notebooks/46_edit_vector\n",
    "- https://leafmap.org/notebooks/47_numpy_to_cog\n",
    "- https://leafmap.org/notebooks/56_download_ned\n",
    "- https://leafmap.org/notebooks/57_national_map\n",
    "- https://leafmap.org/notebooks/64_stac_search\n",
    "- https://leafmap.org/notebooks/68_openaerialmap\n",
    "- https://leafmap.org/notebooks/69_turkey_earthquake\n",
    "- https://leafmap.org/notebooks/71_aws_s3\n",
    "- https://leafmap.org/notebooks/73_custom_stac\n",
    "- https://leafmap.org/notebooks/74_tms_to_geotiff\n",
    "- https://leafmap.org/notebooks/78_read_raster"
   ]
  }
 ],
 "metadata": {
  "jupytext": {
   "text_representation": {
    "extension": ".md",
    "format_name": "myst",
    "format_version": 0.13,
    "jupytext_version": "1.11.5"
   }
  },
  "kernelspec": {
   "display_name": "Python 3",
   "language": "python",
   "name": "python3"
  },
  "source_map": [
   12,
   48,
   50,
   56,
   58
  ]
 },
 "nbformat": 4,
 "nbformat_minor": 5
}