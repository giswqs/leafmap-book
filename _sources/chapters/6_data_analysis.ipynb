{
 "cells": [
  {
   "cell_type": "markdown",
   "id": "728cd943",
   "metadata": {},
   "source": [
    "# Geospatial Data Analysis\n",
    "\n",
    "## Introduction\n",
    "\n",
    "## Summary\n",
    "\n",
    "## References\n",
    "\n",
    "- https://leafmap.org/notebooks/08_whitebox\n",
    "- https://leafmap.org/notebooks/48_lidar\n",
    "- https://leafmap.org/notebooks/55_lidar\n",
    "- https://leafmap.org/notebooks/63_arcgis\n",
    "- https://leafmap.org/notebooks/70_zonal_stats\n",
    "- https://leafmap.org/notebooks/77_split_raster"
   ]
  }
 ],
 "metadata": {
  "jupytext": {
   "text_representation": {
    "extension": ".md",
    "format_name": "myst",
    "format_version": 0.13,
    "jupytext_version": "1.11.5"
   }
  },
  "kernelspec": {
   "display_name": "Python 3",
   "language": "python",
   "name": "python3"
  },
  "source_map": [
   12
  ]
 },
 "nbformat": 4,
 "nbformat_minor": 5
}