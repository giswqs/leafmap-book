{
 "cells": [
  {
   "cell_type": "markdown",
   "id": "844b5d10",
   "metadata": {},
   "source": [
    "# Geospatial Data Analysis\n",
    "\n",
    "```{contents}\n",
    ":local:\n",
    ":depth: 2\n",
    "```\n",
    "\n",
    "## Introduction\n",
    "\n",
    "## Technical requirements\n",
    "\n",
    "To follow along with this chapter, you will need to have leafmap and several optional dependencies installed. If you have already followed {numref}`ch1:install` - _Installing leafmap_, then you should already have a conda environment with all the necessary packages installed. Otherwise, you can create a new conda environment and install [pygis](https://pygis.gishub.org) with the following commands, which will automatically install leafmap and all the required dependencies:\n",
    "\n",
    "```bash\n",
    "conda create -n geo python\n",
    "conda activate geo\n",
    "conda install -c conda-forge mamba\n",
    "mamba install -c conda-forge pygis\n",
    "```\n",
    "\n",
    "Next, launch JupyterLab by typing the following commands in your terminal or Anaconda prompt:\n",
    "\n",
    "```bash\n",
    "jupyter lab\n",
    "```\n",
    "\n",
    "Alternatively, you can use leafmap in a cloud environment without installing anything on your local computer. Click on one of the following links to launch a cloud-based JupyterLab server:\n",
    "\n",
    "- [Open 6_data_analysis.ipynb in Google Colab](https://colab.research.google.com/github/giswqs/leafmap-book/blob/master/chapters/6_data_analysis.ipynb)\n",
    "- [Open 6_data_analysis.ipynb in Amazon SageMaker Studio Lab](https://studiolab.sagemaker.aws/import/github/giswqs/leafmap-book/blob/master/chapters/6_data_analysis.ipynb)\n",
    "- [Open 6_data_analysis.ipynb in Microsoft Planetary Computer](https://pccompute.westeurope.cloudapp.azure.com/compute/hub/user-redirect/git-pull?repo=https://github.com/giswqs/leafmap-book&urlpath=lab/tree/leafmap-book/chapters/6_data_analysis.ipynb&branch=master)\n",
    "\n",
    "Once in the selected cloud environment, you can uncomment the following line and run the cell to install pygis, which includes leafmap and all the necessary dependencies:"
   ]
  },
  {
   "cell_type": "code",
   "execution_count": null,
   "id": "447eee69",
   "metadata": {},
   "outputs": [],
   "source": [
    "# %pip install pygis"
   ]
  },
  {
   "cell_type": "markdown",
   "id": "55995c2f",
   "metadata": {},
   "source": [
    "The installation process may take 2-3 minutes. Once pygis has been installed successfully, restart the kernel to enable the newly installed packages.\n",
    "\n",
    "To begin, import the necessary libraries that will be used in this chapter:"
   ]
  },
  {
   "cell_type": "code",
   "execution_count": null,
   "id": "0a88fe53",
   "metadata": {},
   "outputs": [],
   "source": [
    "import leafmap"
   ]
  },
  {
   "cell_type": "markdown",
   "id": "8ea14ffe",
   "metadata": {},
   "source": [
    "## Zonal statistics\n",
    "\n",
    "## Using ArcGIS Pro\n",
    "\n",
    "## Using WhiteboxTools\n",
    "\n",
    "## Hydrological analysis\n",
    "\n",
    "## LiDAR data analysis\n",
    "\n",
    "## Summary\n",
    "\n",
    "## References\n",
    "\n",
    "- https://leafmap.org/notebooks/08_whitebox\n",
    "- https://leafmap.org/notebooks/48_lidar\n",
    "- https://leafmap.org/notebooks/55_lidar\n",
    "- https://leafmap.org/notebooks/63_arcgis\n",
    "- https://leafmap.org/notebooks/70_zonal_stats\n",
    "- https://leafmap.org/notebooks/77_split_raster"
   ]
  }
 ],
 "metadata": {
  "jupytext": {
   "text_representation": {
    "extension": ".md",
    "format_name": "myst",
    "format_version": 0.13,
    "jupytext_version": "1.11.5"
   }
  },
  "kernelspec": {
   "display_name": "Python 3",
   "language": "python",
   "name": "python3"
  },
  "source_map": [
   12,
   48,
   50,
   56,
   58
  ]
 },
 "nbformat": 4,
 "nbformat_minor": 5
}