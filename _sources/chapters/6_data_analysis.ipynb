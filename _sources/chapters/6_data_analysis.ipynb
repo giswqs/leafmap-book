{
 "cells": [
  {
   "cell_type": "markdown",
   "id": "53f79f4b",
   "metadata": {},
   "source": [
    "# Geospatial Data Analysis\n",
    "\n",
    "```{contents}\n",
    ":local:\n",
    ":depth: 2\n",
    "```\n",
    "\n",
    "## Introduction\n",
    "\n",
    "## Technical requirements"
   ]
  },
  {
   "cell_type": "code",
   "execution_count": null,
   "id": "a30baa30",
   "metadata": {},
   "outputs": [],
   "source": []
  },
  {
   "cell_type": "markdown",
   "id": "86e8bf9a",
   "metadata": {},
   "source": [
    "## Zonal statistics\n",
    "\n",
    "## Using ArcGIS Pro\n",
    "\n",
    "## Using WhiteboxTools\n",
    "\n",
    "## Hydrological analysis\n",
    "\n",
    "## LiDAR data analysis\n",
    "\n",
    "## Summary\n",
    "\n",
    "## References\n",
    "\n",
    "- https://leafmap.org/notebooks/08_whitebox\n",
    "- https://leafmap.org/notebooks/48_lidar\n",
    "- https://leafmap.org/notebooks/55_lidar\n",
    "- https://leafmap.org/notebooks/63_arcgis\n",
    "- https://leafmap.org/notebooks/70_zonal_stats\n",
    "- https://leafmap.org/notebooks/77_split_raster"
   ]
  }
 ],
 "metadata": {
  "jupytext": {
   "text_representation": {
    "extension": ".md",
    "format_name": "myst",
    "format_version": 0.13,
    "jupytext_version": "1.11.5"
   }
  },
  "kernelspec": {
   "display_name": "Python 3",
   "language": "python",
   "name": "python3"
  },
  "source_map": [
   12,
   25,
   27
  ]
 },
 "nbformat": 4,
 "nbformat_minor": 5
}