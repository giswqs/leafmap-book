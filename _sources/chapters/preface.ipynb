{
 "cells": [
  {
   "cell_type": "markdown",
   "id": "fdbb3c97",
   "metadata": {},
   "source": [
    "# Preface\n",
    "\n",
    "## Introduction\n",
    "\n",
    "This book is a comprehensive guide that empowers readers with the knowledge and skills to effectively visualize and analyze geospatial data using the leafmap Python package. Geospatial data plays a crucial role in various fields, making this book an invaluable resource for professionals, researchers, and enthusiasts who want to harness the full potential of geospatial data visualization and analysis.\n",
    "\n",
    "With practical examples, step-by-step instructions, and insightful explanations, this book serves as an indispensable companion for unlocking the power of geospatial data. Readers will learn how to create visually stunning geospatial visualizations that captivate audiences and convey complex information with clarity. They will also gain proficiency in advanced analysis techniques, enabling them to extract meaningful insights from geospatial data.\n",
    "\n",
    "One of the highlights of this book is the exploration of interactive web applications using leafmap. Readers will discover how to develop and deploy engaging web apps that allow users to interact with geospatial visualizations, thereby sharing their insights with a wider audience.\n",
    "\n",
    "By the end of this book, readers will have the skills and confidence to tackle real-world geospatial challenges. They will be equipped with the tools to navigate the intricacies of acquiring, manipulating, and analyzing geospatial data, enabling them to make informed decisions and drive innovation in their respective fields.\n",
    "\n",
    "## Who this book is for\n",
    "\n",
    "Whether you're a seasoned data scientist looking to extend your skills into the geospatial domain, or a geographer eager to harness the power of modern data science, this book is suitable for you. This book is also suitable for anyone who would like to learn how to use Python to analyze and visualize geospatial data interactively in a Jupyter environment. It is particularly suited for novice users with limited programming skills. Advanced programmers can also find leafmap a useful tool for analyzing geospatial data and building interactive web apps.\n",
    "\n",
    "## What this book covers\n",
    "\n",
    "This book covers a comprehensive range of topics related to geospatial data visualization and analysis using the Leafmap Python package.\n",
    "\n",
    "**Chapter 1** _Getting Started with Leafmap_: This chapter introduces the leafmap Python package and provides instructions on how to install it. Readers will learn about the key features of leafmap and how to create interactive maps using different plotting backends.\n",
    "\n",
    "**Chapter 2** _Basic Map Visualization_: In this chapter, readers will be introduced to the fundamentals of map visualization. They will learn how to visualize vector and raster data interactively within a Jupyter environment. Additionally, the chapter covers the addition of widgets to maps, such as legends, colorbars, and labels.\n",
    "\n",
    "**Chapter 3** _Getting Geospatial Data_: This chapter focuses on the process of acquiring geospatial data from various sources. Readers will explore different data sources, including cloud-computing platforms like Microsoft Planetary Computer and Amazon Web Services. They will learn how to obtain and integrate geospatial data into their analysis workflows.\n",
    "\n",
    "**Chapter 4** _Working with Geospatial Data_: In this chapter, readers will learn how to manipulate geospatial data effectively. The topics covered include clipping, merging, and raster data manipulation techniques. Additionally, readers will discover how to create choropleth maps and heat maps to enhance their geospatial visualizations.\n",
    "\n",
    "**Chapter 5** _Time Series Visualization_: This chapter is dedicated to visualizing time series data. Readers will gain insights into techniques for visualizing and analyzing time-dependent data. They will learn how to create engaging timelapse animations using both vector and raster data.\n",
    "\n",
    "**Chapter 6** _Geospatial Data Analysis_: In this chapter, readers will explore advanced geospatial data analysis techniques. The chapter covers hydrological analysis, LiDAR data analysis, and zonal statistics. Readers will learn how to leverage whitebox and leafmap to perform these analyses effectively.\n",
    "\n",
    "**Chapter 7** _Deep Learning Applications_: This chapter provides an introduction to deep learning applications in the geospatial domain. Readers will learn how to perform interactive image segmentation using leafmap and segment-geospatial. They will gain insights into the application of deep learning techniques for geospatial data analysis.\n",
    "\n",
    "**Chapter 8** _Building Interactive Web Apps_: This chapter focuses on the development of interactive web apps using leafmap. Readers will learn how to build interactive web applications and deploy them to the cloud for public access. The chapter covers the necessary tools and techniques for creating compelling web-based geospatial applications.\n",
    "\n",
    "## To get the most out of this book\n",
    "\n",
    "This book assumes that you have some basic knowledge of Python. This means that you should be comfortable with the basic Python syntax, including variables, lists, dictionaries, loops, and functions. If you are familiar with creating lists and defining variables, and have worked with for loops before, you have sufficient Python knowledge to get started.\n",
    "\n",
    "To get the most out of this book, it is highly recommended that you type the code yourself in a Jupyter environment, such as Jupyter notebook, JupyterLab, or Google Colab. This will aid your understanding of the code and the material in the book.\n",
    "\n",
    "## Download Jupyter notebook examples\n",
    "\n",
    "The Jupyter notebook examples for this book can be downloaded from the book’s GitHub repository at <https://github.com/giswqs/leafmap-book>. If there are any updates to the code, they will be made available in this repository.\n",
    "\n",
    "## Conventions used\n",
    "\n",
    "There are a number of text conventions used throughout this book.\n",
    "\n",
    "`Code in text`: Indicates code words in text, folder names, filenames, file extensions, pathnames, URLs, etc. Here is an example: Set `API_KEY` as a system environment variable.\n",
    "\n",
    "Python code blocks are set as follows:"
   ]
  },
  {
   "cell_type": "code",
   "execution_count": null,
   "id": "e14c37d1",
   "metadata": {},
   "outputs": [],
   "source": [
    "import geemap\n",
    "# Create an interactive map\n",
    "m = leafmap.Map(center=[40, -100], zoom=4)\n",
    "m"
   ]
  },
  {
   "cell_type": "markdown",
   "id": "c1a36c7e",
   "metadata": {},
   "source": [
    "**Bold**: Indicates a new term, an important word, or words that you see onscreen. For instance, words in menus or dialog boxes appear in bold. Here is an example: Click on **Advanced settings** to set `API_KEY` as an environment variable.\n",
    "\n",
    "## Get in touch\n",
    "\n",
    "We welcome feedback from our readers.\n",
    "\n",
    "**Questions:** If you have any questions about the materials covered in the book, go to the book repository [discussion board](https://bit.ly/leafbook-qa) to ask questions and share ideas.\n",
    "\n",
    "**Errata:** Although we have made every effort to ensure the accuracy of the book content, errors may occur. If you find any mistakes in the book, please report them to us. Please go to the book repository and [submit an issue](https://bit.ly/leafbook-issues).\n",
    "\n",
    "## Acknowledgments\n",
    "\n",
    "I would like to express my sincere gratitude to the reviewers who provided valuable feedback on this book. Your insights and suggestions helped me to improve the quality of my work and make it more accessible to readers. Your time and effort are greatly appreciated.\n",
    "\n",
    "I also want to acknowledge the efforts of my editor and publishing team, who worked tirelessly to bring this book to fruition. Your support and guidance throughout the process were invaluable, and I could not have done it without you.\n",
    "\n",
    "Finally, I would like to thank my family and friends for their unwavering support and encouragement. Your love and belief in me kept me going during the challenging times, and I am forever grateful."
   ]
  }
 ],
 "metadata": {
  "jupytext": {
   "text_representation": {
    "extension": ".md",
    "format_name": "myst",
    "format_version": 0.13,
    "jupytext_version": "1.11.5"
   }
  },
  "kernelspec": {
   "display_name": "Python 3",
   "language": "python",
   "name": "python3"
  },
  "source_map": [
   12,
   68,
   73
  ]
 },
 "nbformat": 4,
 "nbformat_minor": 5
}