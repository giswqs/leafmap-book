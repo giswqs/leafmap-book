{
 "cells": [
  {
   "cell_type": "markdown",
   "id": "c605d6f6",
   "metadata": {},
   "source": [
    "# Building Interactive Web Apps\n",
    "\n",
    "```{contents}\n",
    ":local:\n",
    ":depth: 2\n",
    "```\n",
    "\n",
    "## Introduction\n",
    "\n",
    "## Technical requirements"
   ]
  },
  {
   "cell_type": "code",
   "execution_count": null,
   "id": "fd51c31d",
   "metadata": {},
   "outputs": [],
   "source": []
  },
  {
   "cell_type": "markdown",
   "id": "7f0da5b5",
   "metadata": {},
   "source": [
    "## Voila\n",
    "\n",
    "## Streamlit\n",
    "\n",
    "## Solara\n",
    "\n",
    "## Summary\n",
    "\n",
    "## References"
   ]
  }
 ],
 "metadata": {
  "jupytext": {
   "text_representation": {
    "extension": ".md",
    "format_name": "myst",
    "format_version": 0.13,
    "jupytext_version": "1.11.5"
   }
  },
  "kernelspec": {
   "display_name": "Python 3",
   "language": "python",
   "name": "python3"
  },
  "source_map": [
   12,
   25,
   27
  ]
 },
 "nbformat": 4,
 "nbformat_minor": 5
}