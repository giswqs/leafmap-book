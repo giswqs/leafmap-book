{
 "cells": [
  {
   "cell_type": "markdown",
   "id": "01ce23e3",
   "metadata": {},
   "source": [
    "# About the Author\n",
    "\n",
    "Dr. Qiusheng Wu an Associate Professor in the Department of Geography & Sustainability at the University of Tennessee, Knoxville. He is also an Amazon Visiting Academic and a Google Developer Expert (GDE) for Earth Engine. His research interests include geospatial data science, remote sensing, and environmental modeling. Dr. Wu is particularly interested in utilizing big geospatial data and cloud computing (e.g., Google Earth Engine, Microsoft Planetary Computer, Amazon Web Services) to study environmental change, especially surface water and wetland inundation dynamics. His research has been funded by NASA, USDA, and the Department of Defense. Dr. Wu is an advocate of open science and reproducible research, having developed and published various open-source packages for advanced geospatial analysis and data visualization, such as geemap, leafmap, and segment-geospatial. Check out his open-source projects at <https://github.com/opengeos>."
   ]
  }
 ],
 "metadata": {
  "jupytext": {
   "text_representation": {
    "extension": ".md",
    "format_name": "myst",
    "format_version": 0.13,
    "jupytext_version": "1.11.5"
   }
  },
  "kernelspec": {
   "display_name": "Python 3",
   "language": "python",
   "name": "python3"
  },
  "source_map": [
   12
  ]
 },
 "nbformat": 4,
 "nbformat_minor": 5
}