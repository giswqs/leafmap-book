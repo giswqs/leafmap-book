{
 "cells": [
  {
   "cell_type": "markdown",
   "id": "0c98dc26",
   "metadata": {},
   "source": [
    "# Working with Geospatial Data\n",
    "\n",
    "## Introduction\n",
    "\n",
    "## Summary\n",
    "\n",
    "## References\n",
    "\n",
    "- https://leafmap.org/notebooks/09_csv_to_points\n",
    "- https://leafmap.org/notebooks/13_geopandas/\n",
    "- https://leafmap.org/notebooks/14_postgis\n",
    "- https://leafmap.org/notebooks/32_local_tile\n",
    "- https://leafmap.org/notebooks/34_add_points_from_xy\n",
    "- https://leafmap.org/notebooks/39_inspector_tool\n",
    "- https://leafmap.org/notebooks/41_raster_gui\n",
    "- https://leafmap.org/notebooks/43_search_control\n",
    "- https://leafmap.org/notebooks/49_split_control\n",
    "- https://leafmap.org/notebooks/50_marker_cluster\n",
    "- https://leafmap.org/notebooks/53_choropleth\n",
    "- https://leafmap.org/notebooks/24_heatmap\n",
    "- https://leafmap.org/notebooks/54_plot_raster\n",
    "- https://leafmap.org/notebooks/76_image_comparison\n",
    "- https://leafmap.org/notebooks/33_image_overlay\n",
    "- https://leafmap.org/notebooks/60_add_widget"
   ]
  }
 ],
 "metadata": {
  "jupytext": {
   "text_representation": {
    "extension": ".md",
    "format_name": "myst",
    "format_version": 0.13,
    "jupytext_version": "1.11.5"
   }
  },
  "kernelspec": {
   "display_name": "Python 3",
   "language": "python",
   "name": "python3"
  },
  "source_map": [
   12
  ]
 },
 "nbformat": 4,
 "nbformat_minor": 5
}